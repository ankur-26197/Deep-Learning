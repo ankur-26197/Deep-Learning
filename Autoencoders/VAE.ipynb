{
  "nbformat": 4,
  "nbformat_minor": 0,
  "metadata": {
    "colab": {
      "provenance": [],
      "gpuType": "T4"
    },
    "kernelspec": {
      "name": "python3",
      "display_name": "Python 3"
    },
    "language_info": {
      "name": "python"
    },
    "accelerator": "GPU"
  },
  "cells": [
    {
      "cell_type": "code",
      "execution_count": 36,
      "metadata": {
        "id": "Pnsz2cQwIQHW"
      },
      "outputs": [],
      "source": [
        "import torch\n",
        "import torch.nn as nn\n",
        "import torch.nn.functional as F\n",
        "from torch.utils.data import DataLoader\n",
        "import torch.distributions\n",
        "from torchvision.datasets import MNIST\n",
        "import torchvision\n",
        "import numpy as np"
      ]
    },
    {
      "cell_type": "code",
      "source": [
        "!rm -rf data"
      ],
      "metadata": {
        "id": "cPO_lVPBYtbE"
      },
      "execution_count": 49,
      "outputs": []
    },
    {
      "cell_type": "code",
      "source": [
        "img_transform = torchvision.transforms.Compose({\n",
        "    torchvision.transforms.ToTensor(),\n",
        "    torchvision.transforms.Normalize((0.5,),(0.5,))\n",
        "})"
      ],
      "metadata": {
        "id": "sEV7LlaZVh18"
      },
      "execution_count": 57,
      "outputs": []
    },
    {
      "cell_type": "code",
      "source": [
        "dataset = MNIST('./data',download=True,transform=img_transform)"
      ],
      "metadata": {
        "id": "12fZJ3SXRrFp"
      },
      "execution_count": 58,
      "outputs": []
    },
    {
      "cell_type": "code",
      "source": [
        "dataloader = DataLoader(dataset,batch_size=256,shuffle=True)"
      ],
      "metadata": {
        "id": "f7s9ht7kWUZ9"
      },
      "execution_count": 59,
      "outputs": []
    },
    {
      "cell_type": "code",
      "source": [
        "class VAE_encoder(nn.Module):\n",
        "  def __init__(self, in_dim, latent_dim):\n",
        "    super().__init__()\n",
        "    self.linear1 = nn.Linear(in_dim, 512)\n",
        "    self.linear2 = nn.Linear(512, latent_dim)\n",
        "    self.linear3 = nn.Linear(512, latent_dim)\n",
        "\n",
        "    self.N = torch.distributions.Normal(0,1)\n",
        "    self.N.loc = self.N.loc.cuda()\n",
        "    self.N.scale = self.N.scale.cuda()\n",
        "    self.kl = 0\n",
        "\n",
        "  def forward(self, x):\n",
        "    x = F.relu(self.linear1(x))\n",
        "    mu = self.linear2(x)\n",
        "    sigma = torch.exp(self.linear3(x))\n",
        "    z = mu + sigma*self.N.sample(mu.shape)\n",
        "    self.kl = (sigma**2 + mu**2 - torch.log(sigma) - 0.5).sum()\n",
        "    return z"
      ],
      "metadata": {
        "id": "tFqsEFNcIw9K"
      },
      "execution_count": 41,
      "outputs": []
    },
    {
      "cell_type": "code",
      "source": [
        "class Decoder(nn.Module):\n",
        "  def __init__(self, latent_dim, out_dim):\n",
        "    super().__init__()\n",
        "    self.linear1 = nn.Linear(latent_dim, 512)\n",
        "    self.linear2 = nn.Linear(512, out_dim)\n",
        "\n",
        "  def forward(self, z):\n",
        "    z = F.relu(self.linear1(z))\n",
        "    z = torch.sigmoid(self.linear2(z))\n",
        "    return z\n"
      ],
      "metadata": {
        "id": "t7qbf-DiK8lo"
      },
      "execution_count": 42,
      "outputs": []
    },
    {
      "cell_type": "code",
      "source": [
        "class VAE(nn.Module):\n",
        "  def __init__(self, in_dim, latent_dim, out_dim):\n",
        "    super().__init__()\n",
        "    self.encoder = VAE_encoder(in_dim, latent_dim)\n",
        "    self.decoder = Decoder(latent_dim, out_dim)\n",
        "\n",
        "  def forward(self, x):\n",
        "    z = self.encoder(x)\n",
        "    return self.decoder(z)"
      ],
      "metadata": {
        "id": "xtfqP2lLQxak"
      },
      "execution_count": 43,
      "outputs": []
    },
    {
      "cell_type": "code",
      "source": [
        "device = 'cuda' if torch.cuda.is_available() else 'cpu'\n",
        "model = VAE(784, 2, 784).to(device)\n",
        "epochs = 30\n",
        "lr = 3e-3\n",
        "opt = torch.optim.Adam(model.parameters(), lr=lr)\n",
        "mse_loss = nn.MSELoss()"
      ],
      "metadata": {
        "id": "fmvzRfgHRiDn"
      },
      "execution_count": 82,
      "outputs": []
    },
    {
      "cell_type": "code",
      "source": [
        "for epoch in range(epochs):\n",
        "  for data in dataloader:\n",
        "    img, _ = data\n",
        "    img = img.view(img.size(0),-1).to(device)\n",
        "    opt.zero_grad()\n",
        "    output = model(img)\n",
        "    loss = mse_loss(output, img.data) + model.encoder.kl\n",
        "    loss.backward()\n",
        "    opt.step()\n",
        "  if epoch % 5 == 0:\n",
        "    print(f\"Epoch: {epoch}, loss: {loss.item():3f}\")"
      ],
      "metadata": {
        "id": "XkiZwirRTEAC"
      },
      "execution_count": 1,
      "outputs": []
    },
    {
      "cell_type": "code",
      "source": [],
      "metadata": {
        "id": "OrkHNViwUqcv"
      },
      "execution_count": 21,
      "outputs": []
    },
    {
      "cell_type": "code",
      "source": [],
      "metadata": {
        "id": "oC2GyxxcZT4b"
      },
      "execution_count": null,
      "outputs": []
    }
  ]
}