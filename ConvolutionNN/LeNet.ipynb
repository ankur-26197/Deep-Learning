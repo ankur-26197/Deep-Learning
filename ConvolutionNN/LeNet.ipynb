{
  "nbformat": 4,
  "nbformat_minor": 0,
  "metadata": {
    "colab": {
      "name": "Untitled0.ipynb",
      "provenance": [],
      "toc_visible": true
    },
    "kernelspec": {
      "name": "python3",
      "display_name": "Python 3"
    },
    "widgets": {
      "application/vnd.jupyter.widget-state+json": {
        "7e70c4d384da4d6b80f6da93de616aa8": {
          "model_module": "@jupyter-widgets/controls",
          "model_name": "HBoxModel",
          "state": {
            "_view_name": "HBoxView",
            "_dom_classes": [],
            "_model_name": "HBoxModel",
            "_view_module": "@jupyter-widgets/controls",
            "_model_module_version": "1.5.0",
            "_view_count": null,
            "_view_module_version": "1.5.0",
            "box_style": "",
            "layout": "IPY_MODEL_2bfc4684e9d54c0e9de5d269c990f5d5",
            "_model_module": "@jupyter-widgets/controls",
            "children": [
              "IPY_MODEL_828ab36b180c415d9a54b74e08682875",
              "IPY_MODEL_f3655260de8b48748ae489410b42b8b8"
            ]
          }
        },
        "2bfc4684e9d54c0e9de5d269c990f5d5": {
          "model_module": "@jupyter-widgets/base",
          "model_name": "LayoutModel",
          "state": {
            "_view_name": "LayoutView",
            "grid_template_rows": null,
            "right": null,
            "justify_content": null,
            "_view_module": "@jupyter-widgets/base",
            "overflow": null,
            "_model_module_version": "1.2.0",
            "_view_count": null,
            "flex_flow": null,
            "width": null,
            "min_width": null,
            "border": null,
            "align_items": null,
            "bottom": null,
            "_model_module": "@jupyter-widgets/base",
            "top": null,
            "grid_column": null,
            "overflow_y": null,
            "overflow_x": null,
            "grid_auto_flow": null,
            "grid_area": null,
            "grid_template_columns": null,
            "flex": null,
            "_model_name": "LayoutModel",
            "justify_items": null,
            "grid_row": null,
            "max_height": null,
            "align_content": null,
            "visibility": null,
            "align_self": null,
            "height": null,
            "min_height": null,
            "padding": null,
            "grid_auto_rows": null,
            "grid_gap": null,
            "max_width": null,
            "order": null,
            "_view_module_version": "1.2.0",
            "grid_template_areas": null,
            "object_position": null,
            "object_fit": null,
            "grid_auto_columns": null,
            "margin": null,
            "display": null,
            "left": null
          }
        },
        "828ab36b180c415d9a54b74e08682875": {
          "model_module": "@jupyter-widgets/controls",
          "model_name": "FloatProgressModel",
          "state": {
            "_view_name": "ProgressView",
            "style": "IPY_MODEL_aa980139f76641a4b4d55e1eac639353",
            "_dom_classes": [],
            "description": "",
            "_model_name": "FloatProgressModel",
            "bar_style": "info",
            "max": 1,
            "_view_module": "@jupyter-widgets/controls",
            "_model_module_version": "1.5.0",
            "value": 1,
            "_view_count": null,
            "_view_module_version": "1.5.0",
            "orientation": "horizontal",
            "min": 0,
            "description_tooltip": null,
            "_model_module": "@jupyter-widgets/controls",
            "layout": "IPY_MODEL_495ad0f6767642d291b7496d7e8bb893"
          }
        },
        "f3655260de8b48748ae489410b42b8b8": {
          "model_module": "@jupyter-widgets/controls",
          "model_name": "HTMLModel",
          "state": {
            "_view_name": "HTMLView",
            "style": "IPY_MODEL_8f7e92a3210c4b24a31aade4fe7e43eb",
            "_dom_classes": [],
            "description": "",
            "_model_name": "HTMLModel",
            "placeholder": "​",
            "_view_module": "@jupyter-widgets/controls",
            "_model_module_version": "1.5.0",
            "value": " 170500096/? [00:20&lt;00:00, 97016638.75it/s]",
            "_view_count": null,
            "_view_module_version": "1.5.0",
            "description_tooltip": null,
            "_model_module": "@jupyter-widgets/controls",
            "layout": "IPY_MODEL_fc2a4676cd524c4ca11f260b4436a285"
          }
        },
        "aa980139f76641a4b4d55e1eac639353": {
          "model_module": "@jupyter-widgets/controls",
          "model_name": "ProgressStyleModel",
          "state": {
            "_view_name": "StyleView",
            "_model_name": "ProgressStyleModel",
            "description_width": "initial",
            "_view_module": "@jupyter-widgets/base",
            "_model_module_version": "1.5.0",
            "_view_count": null,
            "_view_module_version": "1.2.0",
            "bar_color": null,
            "_model_module": "@jupyter-widgets/controls"
          }
        },
        "495ad0f6767642d291b7496d7e8bb893": {
          "model_module": "@jupyter-widgets/base",
          "model_name": "LayoutModel",
          "state": {
            "_view_name": "LayoutView",
            "grid_template_rows": null,
            "right": null,
            "justify_content": null,
            "_view_module": "@jupyter-widgets/base",
            "overflow": null,
            "_model_module_version": "1.2.0",
            "_view_count": null,
            "flex_flow": null,
            "width": null,
            "min_width": null,
            "border": null,
            "align_items": null,
            "bottom": null,
            "_model_module": "@jupyter-widgets/base",
            "top": null,
            "grid_column": null,
            "overflow_y": null,
            "overflow_x": null,
            "grid_auto_flow": null,
            "grid_area": null,
            "grid_template_columns": null,
            "flex": null,
            "_model_name": "LayoutModel",
            "justify_items": null,
            "grid_row": null,
            "max_height": null,
            "align_content": null,
            "visibility": null,
            "align_self": null,
            "height": null,
            "min_height": null,
            "padding": null,
            "grid_auto_rows": null,
            "grid_gap": null,
            "max_width": null,
            "order": null,
            "_view_module_version": "1.2.0",
            "grid_template_areas": null,
            "object_position": null,
            "object_fit": null,
            "grid_auto_columns": null,
            "margin": null,
            "display": null,
            "left": null
          }
        },
        "8f7e92a3210c4b24a31aade4fe7e43eb": {
          "model_module": "@jupyter-widgets/controls",
          "model_name": "DescriptionStyleModel",
          "state": {
            "_view_name": "StyleView",
            "_model_name": "DescriptionStyleModel",
            "description_width": "",
            "_view_module": "@jupyter-widgets/base",
            "_model_module_version": "1.5.0",
            "_view_count": null,
            "_view_module_version": "1.2.0",
            "_model_module": "@jupyter-widgets/controls"
          }
        },
        "fc2a4676cd524c4ca11f260b4436a285": {
          "model_module": "@jupyter-widgets/base",
          "model_name": "LayoutModel",
          "state": {
            "_view_name": "LayoutView",
            "grid_template_rows": null,
            "right": null,
            "justify_content": null,
            "_view_module": "@jupyter-widgets/base",
            "overflow": null,
            "_model_module_version": "1.2.0",
            "_view_count": null,
            "flex_flow": null,
            "width": null,
            "min_width": null,
            "border": null,
            "align_items": null,
            "bottom": null,
            "_model_module": "@jupyter-widgets/base",
            "top": null,
            "grid_column": null,
            "overflow_y": null,
            "overflow_x": null,
            "grid_auto_flow": null,
            "grid_area": null,
            "grid_template_columns": null,
            "flex": null,
            "_model_name": "LayoutModel",
            "justify_items": null,
            "grid_row": null,
            "max_height": null,
            "align_content": null,
            "visibility": null,
            "align_self": null,
            "height": null,
            "min_height": null,
            "padding": null,
            "grid_auto_rows": null,
            "grid_gap": null,
            "max_width": null,
            "order": null,
            "_view_module_version": "1.2.0",
            "grid_template_areas": null,
            "object_position": null,
            "object_fit": null,
            "grid_auto_columns": null,
            "margin": null,
            "display": null,
            "left": null
          }
        }
      }
    }
  },
  "cells": [
    {
      "cell_type": "code",
      "metadata": {
        "id": "v7XCHLSRO5Ky"
      },
      "source": [
        "import torch\r\n",
        "import torch.nn as nn\r\n",
        "import matplotlib.pyplot as plt\r\n",
        "import numpy as np\r\n",
        "from tqdm import notebook"
      ],
      "execution_count": null,
      "outputs": []
    },
    {
      "cell_type": "code",
      "metadata": {
        "colab": {
          "base_uri": "https://localhost:8080/",
          "height": 82,
          "referenced_widgets": [
            "7e70c4d384da4d6b80f6da93de616aa8",
            "2bfc4684e9d54c0e9de5d269c990f5d5",
            "828ab36b180c415d9a54b74e08682875",
            "f3655260de8b48748ae489410b42b8b8",
            "aa980139f76641a4b4d55e1eac639353",
            "495ad0f6767642d291b7496d7e8bb893",
            "8f7e92a3210c4b24a31aade4fe7e43eb",
            "fc2a4676cd524c4ca11f260b4436a285"
          ]
        },
        "id": "4aIdIFKq5HPf",
        "outputId": "767e64d1-ceff-47c1-89fd-c06f408c6903"
      },
      "source": [
        "import torchvision\r\n",
        "import torchvision.transforms as transforms\r\n",
        "trainset=torchvision.datasets.CIFAR10(root='./data',train=True,download=True,\r\n",
        "                                      transform=transforms.ToTensor())"
      ],
      "execution_count": null,
      "outputs": [
        {
          "output_type": "stream",
          "text": [
            "Downloading https://www.cs.toronto.edu/~kriz/cifar-10-python.tar.gz to ./data/cifar-10-python.tar.gz\n"
          ],
          "name": "stdout"
        },
        {
          "output_type": "display_data",
          "data": {
            "application/vnd.jupyter.widget-view+json": {
              "model_id": "7e70c4d384da4d6b80f6da93de616aa8",
              "version_minor": 0,
              "version_major": 2
            },
            "text/plain": [
              "HBox(children=(FloatProgress(value=1.0, bar_style='info', max=1.0), HTML(value='')))"
            ]
          },
          "metadata": {
            "tags": []
          }
        },
        {
          "output_type": "stream",
          "text": [
            "Extracting ./data/cifar-10-python.tar.gz to ./data\n"
          ],
          "name": "stdout"
        }
      ]
    },
    {
      "cell_type": "code",
      "metadata": {
        "id": "ExBOomAj5siy"
      },
      "source": [
        "classes=('plane','car','bird','cat','deer','dog','frog','horse','ship','truck')"
      ],
      "execution_count": 1,
      "outputs": []
    },
    {
      "cell_type": "code",
      "metadata": {
        "id": "f8Zqz-Rk6FWN"
      },
      "source": [
        "trainloader=torch.utils.data.DataLoader(trainset,batch_size=4,shuffle=True)"
      ],
      "execution_count": null,
      "outputs": []
    },
    {
      "cell_type": "code",
      "metadata": {
        "colab": {
          "base_uri": "https://localhost:8080/"
        },
        "id": "or3QZPtm6UY4",
        "outputId": "3bf359a5-ea27-40db-dcdc-6679381a8ac7"
      },
      "source": [
        "dataiter=iter(trainloader)\r\n",
        "images,labels=dataiter.next()\r\n",
        "print(images.shape)"
      ],
      "execution_count": null,
      "outputs": [
        {
          "output_type": "stream",
          "text": [
            "torch.Size([4, 3, 32, 32])\n"
          ],
          "name": "stdout"
        }
      ]
    },
    {
      "cell_type": "code",
      "metadata": {
        "id": "K6YI-UyH6jlk"
      },
      "source": [
        "def imshow(img):\r\n",
        "  npimg=img.numpy()\r\n",
        "  plt.imshow(np.transpose(npimg,(1,2,0)))\r\n",
        "  plt.show()"
      ],
      "execution_count": null,
      "outputs": []
    },
    {
      "cell_type": "code",
      "metadata": {
        "colab": {
          "base_uri": "https://localhost:8080/",
          "height": 155
        },
        "id": "FFLDPgR-6-PG",
        "outputId": "6abb4b5f-9224-4554-e388-797ff9ae1aa3"
      },
      "source": [
        "imshow(torchvision.utils.make_grid(images))\r\n",
        "print('\\t\\t'.join(classes[labels[j]] for j in range(4)))"
      ],
      "execution_count": null,
      "outputs": [
        {
          "output_type": "display_data",
          "data": {
            "image/png": "[encoded data removed]",
            "text/plain": [
              "<Figure size 432x288 with 1 Axes>"
            ]
          },
          "metadata": {
            "tags": [],
            "needs_background": "light"
          }
        },
        {
          "output_type": "stream",
          "text": [
            "truck\t\tdeer\t\ttruck\t\tfrog\n"
          ],
          "name": "stdout"
        }
      ]
    },
    {
      "cell_type": "markdown",
      "metadata": {
        "id": "CdfR4Ytk7kt4"
      },
      "source": [
        "# **LeNet(A convolutional neural network structure)**\r\n",
        "\r\n",
        "\r\n"
      ]
    },
    {
      "cell_type": "code",
      "metadata": {
        "id": "ZXYrtq1U7cii"
      },
      "source": [
        "class LeNet(nn.Module):\r\n",
        "  def __init__(self):\r\n",
        "    super(LeNet,self).__init__()\r\n",
        "    self.cnn_model=nn.Sequential(\r\n",
        "        nn.Conv2d(3,6,5),\r\n",
        "        nn.ReLU(),\r\n",
        "        nn.AvgPool2d(2,stride=2),\r\n",
        "        nn.Conv2d(6,16,5),\r\n",
        "        nn.ReLU(),\r\n",
        "        nn.AvgPool2d(2,stride=2)\r\n",
        "    )\r\n",
        "    self.fc_model=nn.Sequential(\r\n",
        "        nn.Linear(400,120),\r\n",
        "        nn.ReLU(),\r\n",
        "        nn.Linear(120,84),\r\n",
        "        nn.ReLU(),\r\n",
        "        nn.Linear(84,10)\r\n",
        "    )\r\n",
        "  def forward(self,x):\r\n",
        "    #print(x.shape)\r\n",
        "    x=self.cnn_model(x)\r\n",
        "    #print(x.shape)\r\n",
        "    x=x.view(x.size(0),-1)\r\n",
        "    #print(x.shape)\r\n",
        "    x=self.fc_model(x)\r\n",
        "    #print(x.shape)\r\n",
        "    return x"
      ],
      "execution_count": null,
      "outputs": []
    },
    {
      "cell_type": "code",
      "metadata": {
        "id": "J3_8VdB2-uDK"
      },
      "source": [
        "net=LeNet()\r\n",
        "out=net(images)"
      ],
      "execution_count": null,
      "outputs": []
    },
    {
      "cell_type": "code",
      "metadata": {
        "colab": {
          "base_uri": "https://localhost:8080/"
        },
        "id": "IKAT9E2G_xkW",
        "outputId": "2007d513-55f9-4873-a509-8a63680dc805"
      },
      "source": [
        "print(out)"
      ],
      "execution_count": null,
      "outputs": [
        {
          "output_type": "stream",
          "text": [
            "tensor([[-0.0589, -0.1020, -0.1007, -0.1110, -0.0016, -0.0643, -0.0993,  0.0945,\n",
            "         -0.1187,  0.0135],\n",
            "        [-0.0593, -0.1017, -0.1052, -0.1132,  0.0036, -0.0684, -0.0977,  0.0910,\n",
            "         -0.1129,  0.0203],\n",
            "        [-0.0602, -0.0991, -0.1084, -0.1173,  0.0011, -0.0696, -0.1023,  0.0939,\n",
            "         -0.1149,  0.0056],\n",
            "        [-0.0600, -0.1037, -0.1059, -0.1136,  0.0034, -0.0699, -0.1000,  0.0899,\n",
            "         -0.1159,  0.0184]], grad_fn=<AddmmBackward>)\n"
          ],
          "name": "stdout"
        }
      ]
    },
    {
      "cell_type": "markdown",
      "metadata": {
        "id": "ayHWihGU_4B8"
      },
      "source": [
        "#  **Training LeNet**"
      ]
    },
    {
      "cell_type": "code",
      "metadata": {
        "colab": {
          "base_uri": "https://localhost:8080/"
        },
        "id": "GT3YWNZuAJAR",
        "outputId": "34667287-9303-410c-c839-e10b768bc498"
      },
      "source": [
        "batch_size = 128\r\n",
        "trainset = torchvision.datasets.CIFAR10(root='./data', train=True, download=True, transform=transforms.ToTensor())\r\n",
        "trainloader = torch.utils.data.DataLoader(trainset, batch_size=batch_size, shuffle=True)\r\n",
        "testset = torchvision.datasets.CIFAR10(root='./data', train=False, download=True, transform=transforms.ToTensor())\r\n",
        "testloader = torch.utils.data.DataLoader(testset, batch_size=batch_size, shuffle=False)"
      ],
      "execution_count": null,
      "outputs": [
        {
          "output_type": "stream",
          "text": [
            "Files already downloaded and verified\n",
            "Files already downloaded and verified\n"
          ],
          "name": "stdout"
        }
      ]
    },
    {
      "cell_type": "code",
      "metadata": {
        "id": "4ZtWFm78B441"
      },
      "source": [
        "def evaluation(dataloader):\r\n",
        "  total,correct=0,0\r\n",
        "  for data in dataloader:\r\n",
        "    inputs,labels=data\r\n",
        "    outputs=net(inputs)\r\n",
        "    _,pred=torch.max(outputs.data,1)\r\n",
        "    total+=labels.size(0)\r\n",
        "    correct+=(pred==labels).sum().item()\r\n",
        "  return 100*correct/total"
      ],
      "execution_count": null,
      "outputs": []
    },
    {
      "cell_type": "code",
      "metadata": {
        "id": "a1Qj0u35DLEy"
      },
      "source": [
        "net=LeNet()"
      ],
      "execution_count": null,
      "outputs": []
    },
    {
      "cell_type": "code",
      "metadata": {
        "id": "Fdzp7-DMEUk2"
      },
      "source": [
        "import torch.optim as optim\r\n",
        "loss_fn=nn.CrossEntropyLoss()\r\n",
        "opt=optim.Adam(net.parameters(),lr=0.01)"
      ],
      "execution_count": null,
      "outputs": []
    },
    {
      "cell_type": "code",
      "metadata": {
        "colab": {
          "base_uri": "https://localhost:8080/"
        },
        "id": "rR5dCE_lEm5i",
        "outputId": "6d24b0b6-e93f-4d04-b8ac-f3b09ad020e5"
      },
      "source": [
        "loss_arr=[]\r\n",
        "loss_epoch_arr=[]\r\n",
        "max_epochs=50\r\n",
        "for epoch in range(max_epochs):\r\n",
        "  for i,data in enumerate(trainloader,0):\r\n",
        "    inputs,labels=data\r\n",
        "    opt.zero_grad()\r\n",
        "    outputs=net(inputs)\r\n",
        "    loss=loss_fn(outputs,labels)\r\n",
        "    loss.backward()\r\n",
        "    opt.step()\r\n",
        "    loss_arr.append(loss.item())\r\n",
        "\r\n",
        "  loss_epoch_arr.append(loss.item())\r\n",
        "  print('Epoch: %d/%d, Test acc: %0.2f, Train acc: %0.2f' % (epoch, max_epochs, evaluation(testloader), evaluation(trainloader)))\r\n",
        "\r\n",
        "plt.plot(loss_epoch_arr)\r\n",
        "plt.show()"
      ],
      "execution_count": null,
      "outputs": [
        {
          "output_type": "stream",
          "text": [
            "Epoch: 0/50, Test acc: 55.84, Train acc: 70.51\n",
            "Epoch: 1/50, Test acc: 54.63, Train acc: 69.58\n",
            "Epoch: 2/50, Test acc: 54.70, Train acc: 70.33\n",
            "Epoch: 3/50, Test acc: 55.30, Train acc: 71.69\n",
            "Epoch: 4/50, Test acc: 55.98, Train acc: 71.29\n",
            "Epoch: 5/50, Test acc: 55.11, Train acc: 69.06\n",
            "Epoch: 6/50, Test acc: 55.53, Train acc: 72.27\n",
            "Epoch: 7/50, Test acc: 54.26, Train acc: 70.39\n",
            "Epoch: 8/50, Test acc: 54.65, Train acc: 70.81\n",
            "Epoch: 9/50, Test acc: 54.71, Train acc: 69.10\n",
            "Epoch: 10/50, Test acc: 55.48, Train acc: 71.55\n",
            "Epoch: 11/50, Test acc: 54.94, Train acc: 72.48\n",
            "Epoch: 12/50, Test acc: 53.68, Train acc: 71.54\n",
            "Epoch: 13/50, Test acc: 53.21, Train acc: 69.73\n",
            "Epoch: 14/50, Test acc: 54.95, Train acc: 73.55\n",
            "Epoch: 15/50, Test acc: 53.51, Train acc: 70.15\n",
            "Epoch: 16/50, Test acc: 55.22, Train acc: 73.08\n",
            "Epoch: 17/50, Test acc: 54.85, Train acc: 73.46\n",
            "Epoch: 18/50, Test acc: 54.35, Train acc: 73.91\n",
            "Epoch: 19/50, Test acc: 54.65, Train acc: 73.98\n",
            "Epoch: 20/50, Test acc: 53.20, Train acc: 70.94\n",
            "Epoch: 21/50, Test acc: 55.11, Train acc: 72.79\n",
            "Epoch: 22/50, Test acc: 54.64, Train acc: 74.57\n",
            "Epoch: 23/50, Test acc: 51.69, Train acc: 68.85\n",
            "Epoch: 24/50, Test acc: 55.82, Train acc: 73.77\n",
            "Epoch: 25/50, Test acc: 54.83, Train acc: 73.50\n",
            "Epoch: 26/50, Test acc: 54.59, Train acc: 74.73\n",
            "Epoch: 27/50, Test acc: 53.03, Train acc: 71.64\n",
            "Epoch: 28/50, Test acc: 53.49, Train acc: 70.62\n",
            "Epoch: 29/50, Test acc: 54.13, Train acc: 72.72\n",
            "Epoch: 30/50, Test acc: 55.22, Train acc: 73.24\n",
            "Epoch: 31/50, Test acc: 53.86, Train acc: 73.55\n",
            "Epoch: 32/50, Test acc: 54.04, Train acc: 74.26\n",
            "Epoch: 33/50, Test acc: 54.50, Train acc: 74.26\n",
            "Epoch: 34/50, Test acc: 53.10, Train acc: 74.60\n",
            "Epoch: 35/50, Test acc: 52.13, Train acc: 72.00\n",
            "Epoch: 36/50, Test acc: 51.74, Train acc: 71.30\n",
            "Epoch: 37/50, Test acc: 54.41, Train acc: 75.65\n",
            "Epoch: 38/50, Test acc: 52.89, Train acc: 70.30\n",
            "Epoch: 39/50, Test acc: 53.89, Train acc: 74.65\n",
            "Epoch: 40/50, Test acc: 53.43, Train acc: 74.96\n",
            "Epoch: 41/50, Test acc: 53.69, Train acc: 74.03\n",
            "Epoch: 42/50, Test acc: 53.03, Train acc: 74.77\n",
            "Epoch: 43/50, Test acc: 53.65, Train acc: 75.56\n",
            "Epoch: 44/50, Test acc: 53.39, Train acc: 75.69\n",
            "Epoch: 45/50, Test acc: 54.18, Train acc: 76.58\n",
            "Epoch: 46/50, Test acc: 51.41, Train acc: 70.61\n",
            "Epoch: 47/50, Test acc: 53.20, Train acc: 73.44\n",
            "Epoch: 48/50, Test acc: 53.43, Train acc: 74.16\n",
            "Epoch: 49/50, Test acc: 53.88, Train acc: 76.05\n"
          ],
          "name": "stdout"
        },
        {
          "output_type": "display_data",
          "data": {
            "image/png": "[encoded data removed]",
            "text/plain": [
              "<Figure size 432x288 with 1 Axes>"
            ]
          },
          "metadata": {
            "tags": [],
            "needs_background": "light"
          }
        }
      ]
    }
  ]
}