{
  "nbformat": 4,
  "nbformat_minor": 0,
  "metadata": {
    "colab": {
      "provenance": [],
      "gpuType": "T4"
    },
    "kernelspec": {
      "name": "python3",
      "display_name": "Python 3"
    },
    "language_info": {
      "name": "python"
    },
    "accelerator": "GPU"
  },
  "cells": [
    {
      "cell_type": "code",
      "execution_count": 1,
      "metadata": {
        "id": "SfPLKasdmolw"
      },
      "outputs": [],
      "source": [
        "import torch\n",
        "import torch.nn.functional as F\n",
        "from torch.utils.data import Dataset, DataLoader\n",
        "\n",
        "import torch.multiprocessing as mp\n",
        "from torch.utils.data.distributed import DistributedSampler\n",
        "from torch.nn.parallel import DistributedDataParallel as DDP\n",
        "from torch.distributed import init_process_group, destroy_process_group\n",
        "import os"
      ]
    },
    {
      "cell_type": "code",
      "source": [
        "class MyTrainDataset(Dataset):\n",
        "  def __init__(self, size):\n",
        "    self.size = size\n",
        "    self.data = [(torch.rand(20), torch.rand(1)) for _ in range(size)]\n",
        "\n",
        "  def __len__(self):\n",
        "    return self.size\n",
        "\n",
        "  def __getitem__(self, index):\n",
        "    return self.data[index]"
      ],
      "metadata": {
        "id": "W2CCmX_Cn5f5"
      },
      "execution_count": 2,
      "outputs": []
    },
    {
      "cell_type": "code",
      "source": [
        "def ddp_setup():\n",
        "  init_process_group(backend='nccl')\n",
        "  torch.cuda.set_device(int(os.environ['LOCAL_RANK']))"
      ],
      "metadata": {
        "id": "529zsqzeo6M9"
      },
      "execution_count": 3,
      "outputs": []
    },
    {
      "cell_type": "code",
      "source": [
        "class Trainer:\n",
        "  def __init__(self, model, train_data, optimizer, save_every, snapshot_path):\n",
        "    self.gpu_id = int(os.environ['LOCAL_RANK'])\n",
        "    self.model = model.to(self.gpu_id)\n",
        "    self.train_data = train_data\n",
        "    self.optimizer = optimizer\n",
        "    self.save_every = save_every\n",
        "    self.epochs_run = 0\n",
        "    self.snapshot_path = snapshot_path\n",
        "    if os.path.exists(snapshot_path):\n",
        "      print(\"Loading snapshot\")\n",
        "      self._load_snapshot(snapshot_path)\n",
        "\n",
        "    self.model = DDP(self.model, device_ids = [self.gpu_id])\n",
        "\n",
        "  def _load_snapshot(self, snapshot_path):\n",
        "    loc = f\"cuda:{self.gpu_id}\"\n",
        "    snapshot = torch.load(snapshot_path, map_location=loc)\n",
        "    self.epochs_run = snapshot['EPOCHS_RUN']\n",
        "    print(f\"Resuming training from snapshot at epoch {self.epochs_run}\")\n",
        "\n",
        "  def _run_batch(self, source, targets):\n",
        "    self.optimizer.zero_grad()\n",
        "    output = self.model(source)\n",
        "    loss = F.cross_entropy(output, targets)\n",
        "    loss.backward()\n",
        "    self.optimizer.step()\n",
        "\n",
        "  def _run_epoch(self, epoch):\n",
        "    b_sz = len(next(iter(self.train_data[0])))\n",
        "    print(f\"GPU{self.gpu_id} Epoch {epoch} | Batchsize: {b_sz} | Steps: {len(self.train_data)}\")\n",
        "    self.train_data.sampler.set_epoch(epoch)\n",
        "    for source, targets in self.train_data:\n",
        "      source = source.to(self.gpu_id)\n",
        "      targets = targets.to(self.gpu_id)\n",
        "      self._run_batch(source, targets)\n",
        "\n",
        "  def _save_snapshot(self, epoch):\n",
        "    snapshot = {\n",
        "        \"MODEL_STATE\":self.model.module.state_dict(),\n",
        "        \"EPOCHS_RUN\":epoch\n",
        "    }\n",
        "    torch.save(snapshot, self.snapshot_path)\n",
        "    print(f\"Epoch {epoch} | Training snapshot saved at {self.snapshot_path}\")\n",
        "\n",
        "  def train(self, max_epochs):\n",
        "    for epoch in range(self.epochs_run, max_epochs):\n",
        "      self._run_epoch(epoch)\n",
        "      if self.gpu_id == 0 and epoch % self.save_every == 0:\n",
        "        self._save_snapshot(epoch)\n"
      ],
      "metadata": {
        "id": "Kgqltfb7paWL"
      },
      "execution_count": 4,
      "outputs": []
    },
    {
      "cell_type": "code",
      "source": [
        "def load_train_objs():\n",
        "  train_set = MyTrainDataset(2048)\n",
        "  model = torch.nn.Linear(20, 1)\n",
        "  optimizer = torch.optim.SGD(model.parameters(), lr=1e-3)\n",
        "  return train_set, model, optimizer"
      ],
      "metadata": {
        "id": "4xTszdR7Qb_y"
      },
      "execution_count": 5,
      "outputs": []
    },
    {
      "cell_type": "code",
      "source": [
        "def prepare_dataloader(dataset, batch_size):\n",
        "  return DataLoader(dataset, batch_size=batch_size, pin_memory=True,shuffle=False,\n",
        "                    sampler=DistributedSampler(dataset))"
      ],
      "metadata": {
        "id": "ERBZ_maWQjDi"
      },
      "execution_count": 6,
      "outputs": []
    },
    {
      "cell_type": "code",
      "source": [
        "def main(save_every, total_epochs, batch_size, snapshot_path='snapshot.pt'):\n",
        "  ddp_setup()\n",
        "  dataset, model, optimizer = load_train_objs()\n",
        "  train_data = prepare_dataloader(dataset, batch_size)\n",
        "  trainer = Trainer(model, train_data, optimizer, save_every, snapshot_path)\n",
        "  trainer.train(total_epochs)\n",
        "  destroy_process_group()"
      ],
      "metadata": {
        "id": "4YPmku2nQjGR"
      },
      "execution_count": 7,
      "outputs": []
    },
    {
      "cell_type": "code",
      "source": [
        "main(3, 10, 32)"
      ],
      "metadata": {
        "id": "ZKh57EBNQjI6"
      },
      "execution_count": 9,
      "outputs": []
    },
    {
      "cell_type": "code",
      "source": [],
      "metadata": {
        "id": "UqdUy8lMKfOX"
      },
      "execution_count": null,
      "outputs": []
    }
  ]
}