{
  "nbformat": 4,
  "nbformat_minor": 0,
  "metadata": {
    "colab": {
      "provenance": [],
      "gpuType": "T4"
    },
    "kernelspec": {
      "name": "python3",
      "display_name": "Python 3"
    },
    "language_info": {
      "name": "python"
    },
    "accelerator": "GPU"
  },
  "cells": [
    {
      "cell_type": "code",
      "execution_count": 1,
      "metadata": {
        "colab": {
          "base_uri": "https://localhost:8080/"
        },
        "id": "gIGG-vftu1Wm",
        "outputId": "9be2daff-cae6-4487-ce9b-b9ca39a2f618"
      },
      "outputs": [
        {
          "output_type": "stream",
          "name": "stdout",
          "text": [
            "\u001b[?25l     \u001b[90m━━━━━━━━━━━━━━━━━━━━━━━━━━━━━━━━━━━━━━━━\u001b[0m \u001b[32m0.0/661.6 kB\u001b[0m \u001b[31m?\u001b[0m eta \u001b[36m-:--:--\u001b[0m\r\u001b[2K     \u001b[91m━━━━━━━━━━━\u001b[0m\u001b[90m╺\u001b[0m\u001b[90m━━━━━━━━━━━━━━━━━━━━━━━━━━━\u001b[0m \u001b[32m194.6/661.6 kB\u001b[0m \u001b[31m5.7 MB/s\u001b[0m eta \u001b[36m0:00:01\u001b[0m\r\u001b[2K     \u001b[91m━━━━━━━━━━━━━━━━━━━━━━━━━━━━━━━━━━━━━\u001b[0m\u001b[91m╸\u001b[0m \u001b[32m655.4/661.6 kB\u001b[0m \u001b[31m10.0 MB/s\u001b[0m eta \u001b[36m0:00:01\u001b[0m\r\u001b[2K     \u001b[90m━━━━━━━━━━━━━━━━━━━━━━━━━━━━━━━━━━━━━━━\u001b[0m \u001b[32m661.6/661.6 kB\u001b[0m \u001b[31m8.7 MB/s\u001b[0m eta \u001b[36m0:00:00\u001b[0m\n",
            "\u001b[?25h  Installing build dependencies ... \u001b[?25l\u001b[?25hdone\n",
            "  Getting requirements to build wheel ... \u001b[?25l\u001b[?25hdone\n",
            "  Preparing metadata (pyproject.toml) ... \u001b[?25l\u001b[?25hdone\n",
            "  Building wheel for torch_geometric (pyproject.toml) ... \u001b[?25l\u001b[?25hdone\n"
          ]
        }
      ],
      "source": [
        "!pip install torch_geometric --quiet"
      ]
    },
    {
      "cell_type": "code",
      "source": [
        "import torch_geometric\n",
        "from torch_geometric.datasets import Planetoid\n",
        "import os\n",
        "import torch\n",
        "import torch.nn as nn\n",
        "import torch.nn.functional as F\n",
        "from torch_geometric.nn import GATConv"
      ],
      "metadata": {
        "id": "4fyDufbbvBVY"
      },
      "execution_count": 2,
      "outputs": []
    },
    {
      "cell_type": "code",
      "source": [
        "dataset = Planetoid(root='tutorial2', name='Cora')"
      ],
      "metadata": {
        "colab": {
          "base_uri": "https://localhost:8080/"
        },
        "id": "A5usF5x9vFgO",
        "outputId": "99847f1b-6d17-41db-9aa0-61ac92e120f9"
      },
      "execution_count": 3,
      "outputs": [
        {
          "output_type": "stream",
          "name": "stderr",
          "text": [
            "Downloading https://github.com/kimiyoung/planetoid/raw/master/data/ind.cora.x\n",
            "Downloading https://github.com/kimiyoung/planetoid/raw/master/data/ind.cora.tx\n",
            "Downloading https://github.com/kimiyoung/planetoid/raw/master/data/ind.cora.allx\n",
            "Downloading https://github.com/kimiyoung/planetoid/raw/master/data/ind.cora.y\n",
            "Downloading https://github.com/kimiyoung/planetoid/raw/master/data/ind.cora.ty\n",
            "Downloading https://github.com/kimiyoung/planetoid/raw/master/data/ind.cora.ally\n",
            "Downloading https://github.com/kimiyoung/planetoid/raw/master/data/ind.cora.graph\n",
            "Downloading https://github.com/kimiyoung/planetoid/raw/master/data/ind.cora.test.index\n",
            "Processing...\n",
            "Done!\n"
          ]
        }
      ]
    },
    {
      "cell_type": "code",
      "source": [
        "print(dataset)\n",
        "print(\"Number of graphs\", len(dataset))\n",
        "print(\"Number of classes\", dataset.num_classes)\n",
        "print(\"Number of node features\", dataset.num_node_features)\n",
        "print(\"Number of edge features\", dataset.num_edge_features)"
      ],
      "metadata": {
        "colab": {
          "base_uri": "https://localhost:8080/"
        },
        "id": "I-RFTSm6vKPd",
        "outputId": "d389e86c-3f35-4b52-a7b1-a5f2d3e00834"
      },
      "execution_count": 4,
      "outputs": [
        {
          "output_type": "stream",
          "name": "stdout",
          "text": [
            "Cora()\n",
            "Number of graphs 1\n",
            "Number of classes 7\n",
            "Number of node features 1433\n",
            "Number of edge features 0\n"
          ]
        }
      ]
    },
    {
      "cell_type": "code",
      "source": [
        "print(dataset.data)"
      ],
      "metadata": {
        "colab": {
          "base_uri": "https://localhost:8080/"
        },
        "id": "viuhru00vMQT",
        "outputId": "116d4d46-8bdb-4285-b97e-c21b9513f23f"
      },
      "execution_count": 5,
      "outputs": [
        {
          "output_type": "stream",
          "name": "stdout",
          "text": [
            "Data(x=[2708, 1433], edge_index=[2, 10556], y=[2708], train_mask=[2708], val_mask=[2708], test_mask=[2708])\n"
          ]
        },
        {
          "output_type": "stream",
          "name": "stderr",
          "text": [
            "/usr/local/lib/python3.10/dist-packages/torch_geometric/data/in_memory_dataset.py:157: UserWarning: It is not recommended to directly access the internal storage format `data` of an 'InMemoryDataset'. If you are absolutely certain what you are doing, access the internal storage via `InMemoryDataset._data` instead to suppress this warning. Alternatively, you can access stacked individual attributes of every graph via `dataset.{attr_name}`.\n",
            "  warnings.warn(msg)\n"
          ]
        }
      ]
    },
    {
      "cell_type": "code",
      "source": [
        "torch.manual_seed(123)"
      ],
      "metadata": {
        "colab": {
          "base_uri": "https://localhost:8080/"
        },
        "id": "ykXB52WUvMS7",
        "outputId": "b36afc64-46d4-46e7-efdc-c5c9757ead26"
      },
      "execution_count": 6,
      "outputs": [
        {
          "output_type": "execute_result",
          "data": {
            "text/plain": [
              "<torch._C.Generator at 0x79ca7a6eccb0>"
            ]
          },
          "metadata": {},
          "execution_count": 6
        }
      ]
    },
    {
      "cell_type": "code",
      "source": [
        "class Net(nn.Module):\n",
        "  def __init__(self, in_dim, n_heads, hidden_dim, out_dim, dropout=0.2):\n",
        "    super().__init__()\n",
        "    self.dropout = dropout\n",
        "    self.conv1 = GATConv(in_dim, hidden_dim, n_heads, dropout=dropout)\n",
        "    self.conv2 = GATConv(hidden_dim*n_heads, hidden_dim, n_heads, dropout=dropout)\n",
        "    self.out = nn.Linear(hidden_dim*n_heads, out_dim)\n",
        "\n",
        "  def forward(self, data):\n",
        "    hidden = F.relu(self.conv1(data.x, data.edge_index))\n",
        "    hidden = F.relu(self.conv2(hidden, data.edge_index))\n",
        "    out = self.out(hidden)\n",
        "    return out\n"
      ],
      "metadata": {
        "id": "g1Nl0Gx9vMVO"
      },
      "execution_count": 7,
      "outputs": []
    },
    {
      "cell_type": "code",
      "source": [
        "data = dataset[0]\n",
        "device = torch.device('cuda' if torch.cuda.is_available() else 'cpu')\n",
        "model = Net(dataset.num_node_features, 8, 128, dataset.num_classes).to(device)\n",
        "data = data.to(device)\n",
        "opt = torch.optim.Adam(model.parameters(), lr=3e-4)\n",
        "loss_fn = nn.CrossEntropyLoss()\n",
        "epochs = 100"
      ],
      "metadata": {
        "id": "I4RuP6_Pw-9O"
      },
      "execution_count": 8,
      "outputs": []
    },
    {
      "cell_type": "code",
      "source": [
        "def train(data, opt):\n",
        "  opt.zero_grad()\n",
        "  out = model(data)[data.train_mask]\n",
        "  loss = loss_fn(out, data.y[data.train_mask])\n",
        "  loss.backward()\n",
        "  opt.step()\n",
        "\n",
        "def test(data):\n",
        "  model.eval()\n",
        "  with torch.no_grad():\n",
        "    y_pred = model(data)[data.test_mask]\n",
        "    loss = loss_fn(y_pred, data.y[data.test_mask])\n",
        "    y_pred = F.softmax(y_pred, dim=-1)\n",
        "    y_pred = y_pred.argmax(dim=-1)\n",
        "    test_acc = (y_pred == data.y[data.test_mask]).sum()/len(data.y[data.test_mask])\n",
        "    return loss, test_acc\n"
      ],
      "metadata": {
        "id": "td5ialrtxEPt"
      },
      "execution_count": 9,
      "outputs": []
    },
    {
      "cell_type": "code",
      "source": [
        "for epoch in range(epochs):\n",
        "  train(data, opt)\n",
        "  loss, test_acc = test(data)\n",
        "  if epoch %5 ==0 :\n",
        "    print(f\"Epoch: {epoch} | Loss: {loss.item():3f} | Test accuracy: {test_acc.item():3f}\")"
      ],
      "metadata": {
        "colab": {
          "base_uri": "https://localhost:8080/"
        },
        "id": "WaMVkV0xxNDg",
        "outputId": "dbc943a6-0f3f-44ef-af34-581aee2ab7df"
      },
      "execution_count": 10,
      "outputs": [
        {
          "output_type": "stream",
          "name": "stdout",
          "text": [
            "Epoch: 0 | Loss: 1.934225 | Test accuracy: 0.124000\n",
            "Epoch: 5 | Loss: 1.857206 | Test accuracy: 0.758000\n",
            "Epoch: 10 | Loss: 1.732530 | Test accuracy: 0.810000\n",
            "Epoch: 15 | Loss: 1.530774 | Test accuracy: 0.808000\n",
            "Epoch: 20 | Loss: 1.249939 | Test accuracy: 0.807000\n",
            "Epoch: 25 | Loss: 0.942373 | Test accuracy: 0.805000\n",
            "Epoch: 30 | Loss: 0.713364 | Test accuracy: 0.808000\n",
            "Epoch: 35 | Loss: 0.608776 | Test accuracy: 0.809000\n",
            "Epoch: 40 | Loss: 0.587530 | Test accuracy: 0.803000\n",
            "Epoch: 45 | Loss: 0.602117 | Test accuracy: 0.800000\n",
            "Epoch: 50 | Loss: 0.627292 | Test accuracy: 0.802000\n",
            "Epoch: 55 | Loss: 0.653813 | Test accuracy: 0.803000\n",
            "Epoch: 60 | Loss: 0.678684 | Test accuracy: 0.805000\n",
            "Epoch: 65 | Loss: 0.699459 | Test accuracy: 0.806000\n",
            "Epoch: 70 | Loss: 0.715332 | Test accuracy: 0.806000\n",
            "Epoch: 75 | Loss: 0.726906 | Test accuracy: 0.805000\n",
            "Epoch: 80 | Loss: 0.735326 | Test accuracy: 0.804000\n",
            "Epoch: 85 | Loss: 0.741631 | Test accuracy: 0.805000\n",
            "Epoch: 90 | Loss: 0.746503 | Test accuracy: 0.804000\n",
            "Epoch: 95 | Loss: 0.750380 | Test accuracy: 0.804000\n"
          ]
        }
      ]
    },
    {
      "cell_type": "code",
      "source": [],
      "metadata": {
        "id": "DEWDLTth0nRL"
      },
      "execution_count": 10,
      "outputs": []
    }
  ]
}