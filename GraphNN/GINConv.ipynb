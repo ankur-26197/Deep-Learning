{
  "nbformat": 4,
  "nbformat_minor": 0,
  "metadata": {
    "colab": {
      "provenance": [],
      "gpuType": "T4"
    },
    "kernelspec": {
      "name": "python3",
      "display_name": "Python 3"
    },
    "language_info": {
      "name": "python"
    },
    "accelerator": "GPU"
  },
  "cells": [
    {
      "cell_type": "code",
      "execution_count": 1,
      "metadata": {
        "colab": {
          "base_uri": "https://localhost:8080/"
        },
        "id": "lEUaXshWQILa",
        "outputId": "7e56c761-6f12-4001-ea10-82ea3d95a955"
      },
      "outputs": [
        {
          "output_type": "stream",
          "name": "stdout",
          "text": [
            "\u001b[?25l     \u001b[90m━━━━━━━━━━━━━━━━━━━━━━━━━━━━━━━━━━━━━━━━\u001b[0m \u001b[32m0.0/661.6 kB\u001b[0m \u001b[31m?\u001b[0m eta \u001b[36m-:--:--\u001b[0m\r\u001b[2K     \u001b[91m━━━━━━━━━━\u001b[0m\u001b[90m╺\u001b[0m\u001b[90m━━━━━━━━━━━━━━━━━━━━━━━━━━━━\u001b[0m \u001b[32m174.1/661.6 kB\u001b[0m \u001b[31m5.3 MB/s\u001b[0m eta \u001b[36m0:00:01\u001b[0m\r\u001b[2K     \u001b[91m━━━━━━━━━━━━━━━━━━━━━━━━━━━━━━━━━━━━━\u001b[0m\u001b[91m╸\u001b[0m \u001b[32m655.4/661.6 kB\u001b[0m \u001b[31m10.6 MB/s\u001b[0m eta \u001b[36m0:00:01\u001b[0m\r\u001b[2K     \u001b[90m━━━━━━━━━━━━━━━━━━━━━━━━━━━━━━━━━━━━━━━\u001b[0m \u001b[32m661.6/661.6 kB\u001b[0m \u001b[31m9.2 MB/s\u001b[0m eta \u001b[36m0:00:00\u001b[0m\n",
            "\u001b[?25h  Installing build dependencies ... \u001b[?25l\u001b[?25hdone\n",
            "  Getting requirements to build wheel ... \u001b[?25l\u001b[?25hdone\n",
            "  Preparing metadata (pyproject.toml) ... \u001b[?25l\u001b[?25hdone\n",
            "  Building wheel for torch_geometric (pyproject.toml) ... \u001b[?25l\u001b[?25hdone\n"
          ]
        }
      ],
      "source": [
        "!pip install torch_geometric --quiet"
      ]
    },
    {
      "cell_type": "code",
      "source": [
        "import torch_geometric\n",
        "from torch_geometric.datasets import TUDataset\n",
        "from torch_geometric.loader import DataLoader\n",
        "import os\n",
        "import torch\n",
        "import torch.nn as nn\n",
        "import torch.nn.functional as F\n",
        "from torch_geometric.nn import GINConv, global_add_pool"
      ],
      "metadata": {
        "id": "W4WGsEiQQMTH"
      },
      "execution_count": 2,
      "outputs": []
    },
    {
      "cell_type": "code",
      "source": [
        "dataset = TUDataset(root='.', name='PROTEINS').shuffle()\n",
        "print(len(dataset))\n",
        "print(dataset[0].x.shape)\n",
        "print(dataset.num_features)\n",
        "print(dataset.num_classes)"
      ],
      "metadata": {
        "colab": {
          "base_uri": "https://localhost:8080/"
        },
        "id": "iNIUqH-NQV-h",
        "outputId": "25c8600c-e238-482f-818c-ad32163f02cd"
      },
      "execution_count": 3,
      "outputs": [
        {
          "output_type": "stream",
          "name": "stderr",
          "text": [
            "Downloading https://www.chrsmrrs.com/graphkerneldatasets/PROTEINS.zip\n",
            "Extracting ./PROTEINS/PROTEINS.zip\n",
            "Processing...\n"
          ]
        },
        {
          "output_type": "stream",
          "name": "stdout",
          "text": [
            "1113\n",
            "torch.Size([29, 3])\n",
            "3\n",
            "2\n"
          ]
        },
        {
          "output_type": "stream",
          "name": "stderr",
          "text": [
            "Done!\n"
          ]
        }
      ]
    },
    {
      "cell_type": "code",
      "source": [
        "train_dataset = dataset[:int(len(dataset)*0.8)]\n",
        "val_dataset = dataset[int(len(dataset)*0.8): int(len(dataset)*0.9)]\n",
        "test_dataset = dataset[int(len(dataset)*0.9):]\n",
        "\n",
        "print(\"Training graphs:\", len(train_dataset))\n",
        "print(\"Validation graphs:\", len(val_dataset))\n",
        "print(\"Testing graphs:\", len(test_dataset))"
      ],
      "metadata": {
        "colab": {
          "base_uri": "https://localhost:8080/"
        },
        "id": "HZNqJn2iRTG_",
        "outputId": "94d4c5b0-ecf8-4bc2-95a1-d9b69e749c1d"
      },
      "execution_count": 4,
      "outputs": [
        {
          "output_type": "stream",
          "name": "stdout",
          "text": [
            "Training graphs: 890\n",
            "Validation graphs: 111\n",
            "Testing graphs: 112\n"
          ]
        }
      ]
    },
    {
      "cell_type": "code",
      "source": [
        "train_loader = DataLoader(train_dataset, batch_size=128, shuffle=True)\n",
        "val_loader = DataLoader(val_dataset, batch_size=128, shuffle=False)\n",
        "test_loader = DataLoader(test_dataset, batch_size=128, shuffle=False)"
      ],
      "metadata": {
        "id": "XkKCFIcFQ0E3"
      },
      "execution_count": 83,
      "outputs": []
    },
    {
      "cell_type": "code",
      "source": [
        "torch.manual_seed(123)"
      ],
      "metadata": {
        "colab": {
          "base_uri": "https://localhost:8080/"
        },
        "id": "BCBP8tEBWx9-",
        "outputId": "a72dc193-d81d-4e87-c5c9-31a5963b7381"
      },
      "execution_count": 84,
      "outputs": [
        {
          "output_type": "execute_result",
          "data": {
            "text/plain": [
              "<torch._C.Generator at 0x7a087c220bf0>"
            ]
          },
          "metadata": {},
          "execution_count": 84
        }
      ]
    },
    {
      "cell_type": "code",
      "source": [
        "class GIN(nn.Module):\n",
        "  def __init__(self, in_dim, hidden_dim, out_dim, n_layers):\n",
        "    super().__init__()\n",
        "    self.convs = nn.ModuleList()\n",
        "    for i in range(n_layers):\n",
        "      in_dim = in_dim if i==0 else hidden_dim\n",
        "      self.convs.append(GINConv(\n",
        "          nn.Sequential(\n",
        "              nn.Linear(in_dim, hidden_dim),\n",
        "              nn.BatchNorm1d(hidden_dim),\n",
        "              nn.ReLU(),\n",
        "              nn.Linear(hidden_dim, hidden_dim),\n",
        "              nn.ReLU()\n",
        "\n",
        "          )\n",
        "      ))\n",
        "\n",
        "    self.lin1 = nn.Linear(hidden_dim*n_layers, hidden_dim*n_layers)\n",
        "    self.lin2 = nn.Linear(hidden_dim*n_layers, out_dim)\n",
        "\n",
        "  def forward(self, data, edge_index, batch):\n",
        "    hiddens = []\n",
        "    for conv in self.convs:\n",
        "      data = conv(data, edge_index)\n",
        "      hiddens.append(global_add_pool(data, batch))\n",
        "\n",
        "    hidden = torch.cat(hiddens, dim=1)\n",
        "    out1 = F.relu(self.lin1(hidden))\n",
        "    out1 = F.dropout(out1, p=0.2, training=self.training)\n",
        "    out2 = self.lin2(out1)\n",
        "\n",
        "    return out2"
      ],
      "metadata": {
        "id": "uc-w1OrdSTNg"
      },
      "execution_count": 85,
      "outputs": []
    },
    {
      "cell_type": "code",
      "source": [
        "def train():\n",
        "  model.train()\n",
        "  for epoch in range(epochs):\n",
        "    for data in train_loader:\n",
        "      data = data.to(device)\n",
        "      opt.zero_grad()\n",
        "      out = model(data.x, data.edge_index, data.batch)\n",
        "      loss = loss_fn(out, data.y)\n",
        "      loss.backward()\n",
        "      opt.step()\n",
        "    val_loss, val_acc = test(val_loader)\n",
        "    if epoch%50 == 0:\n",
        "      print(f\"Epoch: {epoch} | Val Loss: {val_loss.item():3f} | Val accuracy: {val_acc.item():3f}\")\n",
        "\n",
        "  test_loss, test_acc = test(test_loader)\n",
        "  print(f\"Test Loss: {val_loss.item():3f} | Test accuracy: {val_acc.item():3f}\")\n",
        "\n",
        "def test(loader):\n",
        "  model.eval()\n",
        "  with torch.no_grad():\n",
        "    for data in loader:\n",
        "      data = data.to(device)\n",
        "      y_pred = model(data.x, data.edge_index, data.batch)\n",
        "      loss = loss_fn(y_pred, data.y)\n",
        "      y_pred = F.softmax(y_pred, dim=-1)\n",
        "      y_pred = y_pred.argmax(dim=-1)\n",
        "      test_acc = (y_pred == data.y).sum()/len(data.y)\n",
        "      return loss, test_acc"
      ],
      "metadata": {
        "id": "da77VXfzbIk9"
      },
      "execution_count": 86,
      "outputs": []
    },
    {
      "cell_type": "code",
      "source": [
        "device = torch.device('cuda' if torch.cuda.is_available() else 'cpu')\n",
        "model = GIN(dataset.num_node_features, 256, dataset.num_classes, 5).to(device)\n",
        "opt = torch.optim.Adam(model.parameters(), lr=3e-3, weight_decay=0.005)\n",
        "loss_fn = nn.CrossEntropyLoss()\n",
        "epochs = 500"
      ],
      "metadata": {
        "id": "4s2uVyftV1Ry"
      },
      "execution_count": 87,
      "outputs": []
    },
    {
      "cell_type": "code",
      "source": [
        "train()"
      ],
      "metadata": {
        "colab": {
          "base_uri": "https://localhost:8080/"
        },
        "id": "cisUwvH1V1UI",
        "outputId": "e8c83703-6faf-4449-99f9-e48a6303aff3"
      },
      "execution_count": 88,
      "outputs": [
        {
          "output_type": "stream",
          "name": "stdout",
          "text": [
            "Epoch: 0 | Val Loss: 6.123676 | Val accuracy: 0.666667\n",
            "Epoch: 50 | Val Loss: 0.480283 | Val accuracy: 0.783784\n",
            "Epoch: 100 | Val Loss: 0.471610 | Val accuracy: 0.783784\n",
            "Epoch: 150 | Val Loss: 0.458770 | Val accuracy: 0.801802\n",
            "Epoch: 200 | Val Loss: 0.474852 | Val accuracy: 0.801802\n",
            "Epoch: 250 | Val Loss: 0.469593 | Val accuracy: 0.792793\n",
            "Epoch: 300 | Val Loss: 0.461840 | Val accuracy: 0.792793\n",
            "Epoch: 350 | Val Loss: 0.461973 | Val accuracy: 0.819820\n",
            "Epoch: 400 | Val Loss: 0.463730 | Val accuracy: 0.801802\n",
            "Epoch: 450 | Val Loss: 0.461286 | Val accuracy: 0.792793\n",
            "Test Loss: 0.455255 | Test accuracy: 0.801802\n"
          ]
        }
      ]
    },
    {
      "cell_type": "code",
      "source": [],
      "metadata": {
        "id": "p9HVYgGkjRDC"
      },
      "execution_count": 17,
      "outputs": []
    },
    {
      "cell_type": "code",
      "source": [],
      "metadata": {
        "id": "zOVGfZxH5Yd_"
      },
      "execution_count": 63,
      "outputs": []
    },
    {
      "cell_type": "code",
      "source": [],
      "metadata": {
        "id": "vewJ8p6x85bq"
      },
      "execution_count": null,
      "outputs": []
    }
  ]
}