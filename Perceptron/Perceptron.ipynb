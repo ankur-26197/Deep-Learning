{
 "cells": [
  {
   "cell_type": "code",
   "execution_count": 44,
   "metadata": {},
   "outputs": [],
   "source": [
    "from sklearn.metrics import accuracy_score\n",
    "import matplotlib.pyplot as plt\n",
    "class Perceptron:\n",
    "    \n",
    "    def _init_(self):\n",
    "        self.w=None\n",
    "        self.b=None\n",
    "        \n",
    "    def model(self,x):\n",
    "        return 1 if (np.dot(self.w,x)>=self.b) else 0\n",
    "        \n",
    "    def predict(self,X):\n",
    "        Y=[]\n",
    "        for x in X:\n",
    "            result=self.model(x)\n",
    "            Y.append(result)\n",
    "        return np.array(Y)   \n",
    "    \n",
    "    def fit(self,X,Y,epochs=1,lr=1):\n",
    "        self.w=np.ones(X.shape[1])\n",
    "        self.b=0\n",
    "        accuracy={}\n",
    "        max_accuracy=0\n",
    "        for i in range(epochs):\n",
    "            for x,y in zip(X,Y):\n",
    "                y_pred=self.model(x)\n",
    "                if y==1 and y_pred==0:\n",
    "                    self.w=self.w+lr*x\n",
    "                    self.b=self.b+lr*1\n",
    "                elif y==0 and y_pred==1:\n",
    "                    self.w=self.w-lr*x\n",
    "                    self.b=self.b-lr*1\n",
    "            accuracy[i]=accuracy_score(self.predict(X),Y)\n",
    "            if(accuracy[i]>max_accuracy):\n",
    "                max_accuracy=accuracy[i]\n",
    "                chkptw=self.w\n",
    "                chkptb=self.b\n",
    "        \n",
    "        self.b=chkptb\n",
    "        self.w=chkptw\n",
    "        print(\"Max accuracy \",max_accuracy)\n",
    "        #plt.plot(accuracy.values())\n",
    "        #plt.show()"
   ]
  },
  {
   "cell_type": "code",
   "execution_count": 45,
   "metadata": {},
   "outputs": [
    {
     "name": "stdout",
     "output_type": "stream",
     "text": [
      "(569, 30) (455, 30) (114, 30)\n",
      "(569,) (455,) (114,)\n"
     ]
    }
   ],
   "source": [
    "import sklearn.datasets\n",
    "import numpy as np\n",
    "breast_cancer=sklearn.datasets.load_breast_cancer()\n",
    "import pandas as pd\n",
    "data=pd.DataFrame(breast_cancer.data,columns=breast_cancer.feature_names)\n",
    "data['class']=breast_cancer.target\n",
    "from sklearn.model_selection import train_test_split\n",
    "X=data.drop('class',axis=1)\n",
    "Y=data['class']\n",
    "X_train,X_test,Y_train,Y_test=train_test_split(X,Y,test_size=0.2,stratify=Y,random_state=1)\n",
    "print(X.shape,X_train.shape,X_test.shape)\n",
    "print(Y.shape,Y_train.shape,Y_test.shape)"
   ]
  },
  {
   "cell_type": "code",
   "execution_count": 46,
   "metadata": {},
   "outputs": [],
   "source": [
    "perceptron=Perceptron()\n",
    "X_train=X_train.values\n",
    "X_test=X_test.values"
   ]
  },
  {
   "cell_type": "code",
   "execution_count": 55,
   "metadata": {},
   "outputs": [
    {
     "name": "stdout",
     "output_type": "stream",
     "text": [
      "Max accuracy  0.9340659340659341\n"
     ]
    }
   ],
   "source": [
    "perceptron.fit(X_train,Y_train,10000,0.0001)"
   ]
  },
  {
   "cell_type": "code",
   "execution_count": 56,
   "metadata": {},
   "outputs": [
    {
     "data": {
      "image/png": "[encoded data removed]",
      "text/plain": [
       "<Figure size 432x288 with 1 Axes>"
      ]
     },
     "metadata": {
      "needs_background": "light"
     },
     "output_type": "display_data"
    }
   ],
   "source": [
    "\n",
    "plt.plot(perceptron.w)\n",
    "plt.show()"
   ]
  },
  {
   "cell_type": "code",
   "execution_count": 57,
   "metadata": {},
   "outputs": [
    {
     "name": "stdout",
     "output_type": "stream",
     "text": [
      "0.9340659340659341\n"
     ]
    }
   ],
   "source": [
    "\n",
    "Y_pred_train=perceptron.predict(X_train)\n",
    "accuracy=accuracy_score(Y_pred_train,Y_train)\n",
    "print(accuracy)"
   ]
  },
  {
   "cell_type": "code",
   "execution_count": null,
   "metadata": {},
   "outputs": [],
   "source": []
  },
  {
   "cell_type": "code",
   "execution_count": 58,
   "metadata": {},
   "outputs": [
    {
     "name": "stdout",
     "output_type": "stream",
     "text": [
      "0.9385964912280702\n"
     ]
    }
   ],
   "source": [
    "Y_pred_test=perceptron.predict(X_test)\n",
    "accuracy=accuracy_score(Y_pred_test,Y_test)\n",
    "print(accuracy)"
   ]
  },
  {
   "cell_type": "code",
   "execution_count": null,
   "metadata": {},
   "outputs": [],
   "source": []
  },
  {
   "cell_type": "code",
   "execution_count": null,
   "metadata": {},
   "outputs": [],
   "source": []
  }
 ],
 "metadata": {
  "kernelspec": {
   "display_name": "Python 3",
   "language": "python",
   "name": "python3"
  },
  "language_info": {
   "codemirror_mode": {
    "name": "ipython",
    "version": 3
   },
   "file_extension": ".py",
   "mimetype": "text/x-python",
   "name": "python",
   "nbconvert_exporter": "python",
   "pygments_lexer": "ipython3",
   "version": "3.8.3"
  }
 },
 "nbformat": 4,
 "nbformat_minor": 4
}
