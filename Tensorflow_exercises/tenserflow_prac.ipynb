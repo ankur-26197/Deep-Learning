{
 "cells": [
  {
   "cell_type": "code",
   "execution_count": 3,
   "metadata": {},
   "outputs": [],
   "source": [
    "import numpy as np\n",
    "import pandas as pd\n",
    "import matplotlib.pyplot as plt\n",
    "import tensorflow as tf\n",
    "import tensorflow.compat.v2.feature_column as fc\n",
    "from __future__ import absolute_import, division, print_function, unicode_literals"
   ]
  },
  {
   "cell_type": "code",
   "execution_count": 4,
   "metadata": {},
   "outputs": [],
   "source": [
    "csv_columns=['SepalLength', 'SepalWidth', 'PetalLength', 'PetalWidth', 'Species']\n",
    "species=['Setosa', 'Versicolor', 'Virginica']"
   ]
  },
  {
   "cell_type": "code",
   "execution_count": 5,
   "metadata": {},
   "outputs": [],
   "source": [
    "train_path=tf.keras.utils.get_file(\"iris_training.csv\",\n",
    "                                   \"https://storage.googleapis.com/download.tensorflow.org/data/iris_training.csv\")\n",
    "test_path=tf.keras.utils.get_file(\"iris_test.csv\", \n",
    "                                  \"https://storage.googleapis.com/download.tensorflow.org/data/iris_test.csv\")"
   ]
  },
  {
   "cell_type": "code",
   "execution_count": 6,
   "metadata": {},
   "outputs": [],
   "source": [
    "train=pd.read_csv(train_path,names=csv_columns,header=0)\n",
    "test=pd.read_csv(test_path,names=csv_columns,header=0)"
   ]
  },
  {
   "cell_type": "code",
   "execution_count": 7,
   "metadata": {},
   "outputs": [
    {
     "data": {
      "text/html": [
       "<div>\n",
       "<style scoped>\n",
       "    .dataframe tbody tr th:only-of-type {\n",
       "        vertical-align: middle;\n",
       "    }\n",
       "\n",
       "    .dataframe tbody tr th {\n",
       "        vertical-align: top;\n",
       "    }\n",
       "\n",
       "    .dataframe thead th {\n",
       "        text-align: right;\n",
       "    }\n",
       "</style>\n",
       "<table border=\"1\" class=\"dataframe\">\n",
       "  <thead>\n",
       "    <tr style=\"text-align: right;\">\n",
       "      <th></th>\n",
       "      <th>SepalLength</th>\n",
       "      <th>SepalWidth</th>\n",
       "      <th>PetalLength</th>\n",
       "      <th>PetalWidth</th>\n",
       "      <th>Species</th>\n",
       "    </tr>\n",
       "  </thead>\n",
       "  <tbody>\n",
       "    <tr>\n",
       "      <th>0</th>\n",
       "      <td>6.4</td>\n",
       "      <td>2.8</td>\n",
       "      <td>5.6</td>\n",
       "      <td>2.2</td>\n",
       "      <td>2</td>\n",
       "    </tr>\n",
       "    <tr>\n",
       "      <th>1</th>\n",
       "      <td>5.0</td>\n",
       "      <td>2.3</td>\n",
       "      <td>3.3</td>\n",
       "      <td>1.0</td>\n",
       "      <td>1</td>\n",
       "    </tr>\n",
       "    <tr>\n",
       "      <th>2</th>\n",
       "      <td>4.9</td>\n",
       "      <td>2.5</td>\n",
       "      <td>4.5</td>\n",
       "      <td>1.7</td>\n",
       "      <td>2</td>\n",
       "    </tr>\n",
       "    <tr>\n",
       "      <th>3</th>\n",
       "      <td>4.9</td>\n",
       "      <td>3.1</td>\n",
       "      <td>1.5</td>\n",
       "      <td>0.1</td>\n",
       "      <td>0</td>\n",
       "    </tr>\n",
       "    <tr>\n",
       "      <th>4</th>\n",
       "      <td>5.7</td>\n",
       "      <td>3.8</td>\n",
       "      <td>1.7</td>\n",
       "      <td>0.3</td>\n",
       "      <td>0</td>\n",
       "    </tr>\n",
       "  </tbody>\n",
       "</table>\n",
       "</div>"
      ],
      "text/plain": [
       "   SepalLength  SepalWidth  PetalLength  PetalWidth  Species\n",
       "0          6.4         2.8          5.6         2.2        2\n",
       "1          5.0         2.3          3.3         1.0        1\n",
       "2          4.9         2.5          4.5         1.7        2\n",
       "3          4.9         3.1          1.5         0.1        0\n",
       "4          5.7         3.8          1.7         0.3        0"
      ]
     },
     "execution_count": 7,
     "metadata": {},
     "output_type": "execute_result"
    }
   ],
   "source": [
    "train.head()"
   ]
  },
  {
   "cell_type": "code",
   "execution_count": 8,
   "metadata": {},
   "outputs": [
    {
     "data": {
      "text/html": [
       "<div>\n",
       "<style scoped>\n",
       "    .dataframe tbody tr th:only-of-type {\n",
       "        vertical-align: middle;\n",
       "    }\n",
       "\n",
       "    .dataframe tbody tr th {\n",
       "        vertical-align: top;\n",
       "    }\n",
       "\n",
       "    .dataframe thead th {\n",
       "        text-align: right;\n",
       "    }\n",
       "</style>\n",
       "<table border=\"1\" class=\"dataframe\">\n",
       "  <thead>\n",
       "    <tr style=\"text-align: right;\">\n",
       "      <th></th>\n",
       "      <th>SepalLength</th>\n",
       "      <th>SepalWidth</th>\n",
       "      <th>PetalLength</th>\n",
       "      <th>PetalWidth</th>\n",
       "      <th>Species</th>\n",
       "    </tr>\n",
       "  </thead>\n",
       "  <tbody>\n",
       "    <tr>\n",
       "      <th>0</th>\n",
       "      <td>5.9</td>\n",
       "      <td>3.0</td>\n",
       "      <td>4.2</td>\n",
       "      <td>1.5</td>\n",
       "      <td>1</td>\n",
       "    </tr>\n",
       "    <tr>\n",
       "      <th>1</th>\n",
       "      <td>6.9</td>\n",
       "      <td>3.1</td>\n",
       "      <td>5.4</td>\n",
       "      <td>2.1</td>\n",
       "      <td>2</td>\n",
       "    </tr>\n",
       "    <tr>\n",
       "      <th>2</th>\n",
       "      <td>5.1</td>\n",
       "      <td>3.3</td>\n",
       "      <td>1.7</td>\n",
       "      <td>0.5</td>\n",
       "      <td>0</td>\n",
       "    </tr>\n",
       "    <tr>\n",
       "      <th>3</th>\n",
       "      <td>6.0</td>\n",
       "      <td>3.4</td>\n",
       "      <td>4.5</td>\n",
       "      <td>1.6</td>\n",
       "      <td>1</td>\n",
       "    </tr>\n",
       "    <tr>\n",
       "      <th>4</th>\n",
       "      <td>5.5</td>\n",
       "      <td>2.5</td>\n",
       "      <td>4.0</td>\n",
       "      <td>1.3</td>\n",
       "      <td>1</td>\n",
       "    </tr>\n",
       "  </tbody>\n",
       "</table>\n",
       "</div>"
      ],
      "text/plain": [
       "   SepalLength  SepalWidth  PetalLength  PetalWidth  Species\n",
       "0          5.9         3.0          4.2         1.5        1\n",
       "1          6.9         3.1          5.4         2.1        2\n",
       "2          5.1         3.3          1.7         0.5        0\n",
       "3          6.0         3.4          4.5         1.6        1\n",
       "4          5.5         2.5          4.0         1.3        1"
      ]
     },
     "execution_count": 8,
     "metadata": {},
     "output_type": "execute_result"
    }
   ],
   "source": [
    "test.head()"
   ]
  },
  {
   "cell_type": "code",
   "execution_count": 9,
   "metadata": {},
   "outputs": [],
   "source": [
    "train_y=train.pop(\"Species\")\n",
    "test_y=test.pop(\"Species\")"
   ]
  },
  {
   "cell_type": "code",
   "execution_count": 10,
   "metadata": {},
   "outputs": [
    {
     "data": {
      "text/plain": [
       "0    2\n",
       "1    1\n",
       "2    2\n",
       "3    0\n",
       "4    0\n",
       "Name: Species, dtype: int64"
      ]
     },
     "execution_count": 10,
     "metadata": {},
     "output_type": "execute_result"
    }
   ],
   "source": [
    "train_y.head()"
   ]
  },
  {
   "cell_type": "code",
   "execution_count": 11,
   "metadata": {},
   "outputs": [
    {
     "data": {
      "text/plain": [
       "(120, 4)"
      ]
     },
     "execution_count": 11,
     "metadata": {},
     "output_type": "execute_result"
    }
   ],
   "source": [
    "train.shape"
   ]
  },
  {
   "cell_type": "code",
   "execution_count": 12,
   "metadata": {},
   "outputs": [],
   "source": [
    "def input_fn(features,labels,training=True,batch_size=256):\n",
    "    dataset=tf.data.Dataset.from_tensor_slices((dict(features),labels))\n",
    "    if training:\n",
    "        dataset=dataset.shuffle(1000).repeat()\n",
    "    return dataset.batch(batch_size)   "
   ]
  },
  {
   "cell_type": "code",
   "execution_count": 13,
   "metadata": {},
   "outputs": [
    {
     "name": "stdout",
     "output_type": "stream",
     "text": [
      "[NumericColumn(key='SepalLength', shape=(1,), default_value=None, dtype=tf.float32, normalizer_fn=None), NumericColumn(key='SepalWidth', shape=(1,), default_value=None, dtype=tf.float32, normalizer_fn=None), NumericColumn(key='PetalLength', shape=(1,), default_value=None, dtype=tf.float32, normalizer_fn=None), NumericColumn(key='PetalWidth', shape=(1,), default_value=None, dtype=tf.float32, normalizer_fn=None)]\n"
     ]
    }
   ],
   "source": [
    "my_feature_columns=[]\n",
    "for key in train.keys():\n",
    "    my_feature_columns.append(tf.feature_column.numeric_column(key=key))\n",
    "print(my_feature_columns)"
   ]
  },
  {
   "cell_type": "code",
   "execution_count": 14,
   "metadata": {},
   "outputs": [
    {
     "name": "stdout",
     "output_type": "stream",
     "text": [
      "INFO:tensorflow:Using default config.\n",
      "WARNING:tensorflow:Using temporary folder as model directory: C:\\Users\\ANKURS~1\\AppData\\Local\\Temp\\tmpgs37x8if\n",
      "INFO:tensorflow:Using config: {'_model_dir': 'C:\\\\Users\\\\ANKURS~1\\\\AppData\\\\Local\\\\Temp\\\\tmpgs37x8if', '_tf_random_seed': None, '_save_summary_steps': 100, '_save_checkpoints_steps': None, '_save_checkpoints_secs': 600, '_session_config': allow_soft_placement: true\n",
      "graph_options {\n",
      "  rewrite_options {\n",
      "    meta_optimizer_iterations: ONE\n",
      "  }\n",
      "}\n",
      ", '_keep_checkpoint_max': 5, '_keep_checkpoint_every_n_hours': 10000, '_log_step_count_steps': 100, '_train_distribute': None, '_device_fn': None, '_protocol': None, '_eval_distribute': None, '_experimental_distribute': None, '_experimental_max_worker_delay_secs': None, '_session_creation_timeout_secs': 7200, '_checkpoint_save_graph_def': True, '_service': None, '_cluster_spec': ClusterSpec({}), '_task_type': 'worker', '_task_id': 0, '_global_id_in_cluster': 0, '_master': '', '_evaluation_master': '', '_is_chief': True, '_num_ps_replicas': 0, '_num_worker_replicas': 1}\n"
     ]
    }
   ],
   "source": [
    "classifier=tf.estimator.DNNClassifier(\n",
    "    feature_columns=my_feature_columns,\n",
    "    hidden_units=[30,10],\n",
    "    n_classes=len(train_y.unique()))"
   ]
  },
  {
   "cell_type": "code",
   "execution_count": 15,
   "metadata": {
    "scrolled": true
   },
   "outputs": [
    {
     "name": "stdout",
     "output_type": "stream",
     "text": [
      "WARNING:tensorflow:From C:\\Users\\ANKUR SINGH\\anaconda3\\lib\\site-packages\\tensorflow\\python\\training\\training_util.py:235: Variable.initialized_value (from tensorflow.python.ops.variables) is deprecated and will be removed in a future version.\n",
      "Instructions for updating:\n",
      "Use Variable.read_value. Variables in 2.X are initialized automatically both in eager and graph (inside tf.defun) contexts.\n",
      "INFO:tensorflow:Calling model_fn.\n",
      "WARNING:tensorflow:From C:\\Users\\ANKUR SINGH\\anaconda3\\lib\\site-packages\\tensorflow\\python\\keras\\optimizer_v2\\adagrad.py:82: calling Constant.__init__ (from tensorflow.python.ops.init_ops) with dtype is deprecated and will be removed in a future version.\n",
      "Instructions for updating:\n",
      "Call initializer instance with the dtype argument instead of passing it to the constructor\n",
      "INFO:tensorflow:Done calling model_fn.\n",
      "INFO:tensorflow:Create CheckpointSaverHook.\n",
      "INFO:tensorflow:Graph was finalized.\n",
      "INFO:tensorflow:Running local_init_op.\n",
      "INFO:tensorflow:Done running local_init_op.\n",
      "INFO:tensorflow:Calling checkpoint listeners before saving checkpoint 0...\n",
      "INFO:tensorflow:Saving checkpoints for 0 into C:\\Users\\ANKURS~1\\AppData\\Local\\Temp\\tmpgs37x8if\\model.ckpt.\n",
      "INFO:tensorflow:Calling checkpoint listeners after saving checkpoint 0...\n",
      "INFO:tensorflow:loss = 3.1217542, step = 0\n",
      "INFO:tensorflow:global_step/sec: 248.738\n",
      "INFO:tensorflow:loss = 1.6740618, step = 100 (0.454 sec)\n",
      "INFO:tensorflow:global_step/sec: 144.8\n",
      "INFO:tensorflow:loss = 1.32586, step = 200 (0.646 sec)\n",
      "INFO:tensorflow:global_step/sec: 299.469\n",
      "INFO:tensorflow:loss = 1.1505088, step = 300 (0.353 sec)\n",
      "INFO:tensorflow:global_step/sec: 196.713\n",
      "INFO:tensorflow:loss = 1.0608659, step = 400 (0.489 sec)\n",
      "INFO:tensorflow:global_step/sec: 286.538\n",
      "INFO:tensorflow:loss = 1.0069637, step = 500 (0.350 sec)\n",
      "INFO:tensorflow:global_step/sec: 192.024\n",
      "INFO:tensorflow:loss = 0.97138274, step = 600 (0.519 sec)\n",
      "INFO:tensorflow:global_step/sec: 309.623\n",
      "INFO:tensorflow:loss = 0.9314884, step = 700 (0.333 sec)\n",
      "INFO:tensorflow:global_step/sec: 285.892\n",
      "INFO:tensorflow:loss = 0.9080394, step = 800 (0.372 sec)\n",
      "INFO:tensorflow:global_step/sec: 254.633\n",
      "INFO:tensorflow:loss = 0.8887856, step = 900 (0.385 sec)\n",
      "INFO:tensorflow:global_step/sec: 293.312\n",
      "INFO:tensorflow:loss = 0.85558033, step = 1000 (0.336 sec)\n",
      "INFO:tensorflow:global_step/sec: 258.095\n",
      "INFO:tensorflow:loss = 0.85319126, step = 1100 (0.434 sec)\n",
      "INFO:tensorflow:global_step/sec: 148.266\n",
      "INFO:tensorflow:loss = 0.82830656, step = 1200 (0.609 sec)\n",
      "INFO:tensorflow:global_step/sec: 269.427\n",
      "INFO:tensorflow:loss = 0.8215445, step = 1300 (0.390 sec)\n",
      "INFO:tensorflow:global_step/sec: 366.661\n",
      "INFO:tensorflow:loss = 0.80465776, step = 1400 (0.272 sec)\n",
      "INFO:tensorflow:global_step/sec: 189.909\n",
      "INFO:tensorflow:loss = 0.7924703, step = 1500 (0.509 sec)\n",
      "INFO:tensorflow:global_step/sec: 179.377\n",
      "INFO:tensorflow:loss = 0.79351974, step = 1600 (0.560 sec)\n",
      "INFO:tensorflow:global_step/sec: 183.532\n",
      "INFO:tensorflow:loss = 0.7682696, step = 1700 (0.534 sec)\n",
      "INFO:tensorflow:global_step/sec: 377.725\n",
      "INFO:tensorflow:loss = 0.7642703, step = 1800 (0.265 sec)\n",
      "INFO:tensorflow:global_step/sec: 359.741\n",
      "INFO:tensorflow:loss = 0.74830836, step = 1900 (0.278 sec)\n",
      "INFO:tensorflow:global_step/sec: 395.334\n",
      "INFO:tensorflow:loss = 0.7445564, step = 2000 (0.253 sec)\n",
      "INFO:tensorflow:global_step/sec: 384.291\n",
      "INFO:tensorflow:loss = 0.7311207, step = 2100 (0.260 sec)\n",
      "INFO:tensorflow:global_step/sec: 398.763\n",
      "INFO:tensorflow:loss = 0.72148377, step = 2200 (0.258 sec)\n",
      "INFO:tensorflow:global_step/sec: 360.036\n",
      "INFO:tensorflow:loss = 0.70802504, step = 2300 (0.271 sec)\n",
      "INFO:tensorflow:global_step/sec: 424.242\n",
      "INFO:tensorflow:loss = 0.7047157, step = 2400 (0.263 sec)\n",
      "INFO:tensorflow:global_step/sec: 405.324\n",
      "INFO:tensorflow:loss = 0.68856835, step = 2500 (0.252 sec)\n",
      "INFO:tensorflow:global_step/sec: 356.031\n",
      "INFO:tensorflow:loss = 0.68441564, step = 2600 (0.271 sec)\n",
      "INFO:tensorflow:global_step/sec: 358.312\n",
      "INFO:tensorflow:loss = 0.6872639, step = 2700 (0.272 sec)\n",
      "INFO:tensorflow:global_step/sec: 335.579\n",
      "INFO:tensorflow:loss = 0.67500466, step = 2800 (0.296 sec)\n",
      "INFO:tensorflow:global_step/sec: 350.201\n",
      "INFO:tensorflow:loss = 0.6616007, step = 2900 (0.297 sec)\n",
      "INFO:tensorflow:global_step/sec: 368.36\n",
      "INFO:tensorflow:loss = 0.66108084, step = 3000 (0.271 sec)\n",
      "INFO:tensorflow:global_step/sec: 373.828\n",
      "INFO:tensorflow:loss = 0.6561234, step = 3100 (0.244 sec)\n",
      "INFO:tensorflow:global_step/sec: 408.115\n",
      "INFO:tensorflow:loss = 0.6520734, step = 3200 (0.272 sec)\n",
      "INFO:tensorflow:global_step/sec: 340.8\n",
      "INFO:tensorflow:loss = 0.63672006, step = 3300 (0.281 sec)\n",
      "INFO:tensorflow:global_step/sec: 396.161\n",
      "INFO:tensorflow:loss = 0.6324544, step = 3400 (0.255 sec)\n",
      "INFO:tensorflow:global_step/sec: 345.07\n",
      "INFO:tensorflow:loss = 0.61694336, step = 3500 (0.284 sec)\n",
      "INFO:tensorflow:global_step/sec: 248.841\n",
      "INFO:tensorflow:loss = 0.62553024, step = 3600 (0.413 sec)\n",
      "INFO:tensorflow:global_step/sec: 383.889\n",
      "INFO:tensorflow:loss = 0.61892956, step = 3700 (0.237 sec)\n",
      "INFO:tensorflow:global_step/sec: 368.117\n",
      "INFO:tensorflow:loss = 0.603184, step = 3800 (0.286 sec)\n",
      "INFO:tensorflow:global_step/sec: 354.071\n",
      "INFO:tensorflow:loss = 0.6020287, step = 3900 (0.291 sec)\n",
      "INFO:tensorflow:global_step/sec: 376.474\n",
      "INFO:tensorflow:loss = 0.59247094, step = 4000 (0.256 sec)\n",
      "INFO:tensorflow:global_step/sec: 331.283\n",
      "INFO:tensorflow:loss = 0.5903268, step = 4100 (0.312 sec)\n",
      "INFO:tensorflow:global_step/sec: 422.608\n",
      "INFO:tensorflow:loss = 0.58754694, step = 4200 (0.233 sec)\n",
      "INFO:tensorflow:global_step/sec: 409.985\n",
      "INFO:tensorflow:loss = 0.5887737, step = 4300 (0.256 sec)\n",
      "INFO:tensorflow:global_step/sec: 395.115\n",
      "INFO:tensorflow:loss = 0.5805994, step = 4400 (0.235 sec)\n",
      "INFO:tensorflow:global_step/sec: 406.61\n",
      "INFO:tensorflow:loss = 0.57355964, step = 4500 (0.262 sec)\n",
      "INFO:tensorflow:global_step/sec: 421.799\n",
      "INFO:tensorflow:loss = 0.57172424, step = 4600 (0.236 sec)\n",
      "INFO:tensorflow:global_step/sec: 401.467\n",
      "INFO:tensorflow:loss = 0.5640242, step = 4700 (0.247 sec)\n",
      "INFO:tensorflow:global_step/sec: 417.502\n",
      "INFO:tensorflow:loss = 0.55703384, step = 4800 (0.232 sec)\n",
      "INFO:tensorflow:global_step/sec: 399.848\n",
      "INFO:tensorflow:loss = 0.54624236, step = 4900 (0.254 sec)\n",
      "INFO:tensorflow:Calling checkpoint listeners before saving checkpoint 5000...\n",
      "INFO:tensorflow:Saving checkpoints for 5000 into C:\\Users\\ANKURS~1\\AppData\\Local\\Temp\\tmpgs37x8if\\model.ckpt.\n",
      "INFO:tensorflow:Calling checkpoint listeners after saving checkpoint 5000...\n",
      "INFO:tensorflow:Loss for final step: 0.5508047.\n"
     ]
    },
    {
     "data": {
      "text/plain": [
       "<tensorflow_estimator.python.estimator.canned.dnn.DNNClassifierV2 at 0x239c8233c10>"
      ]
     },
     "execution_count": 15,
     "metadata": {},
     "output_type": "execute_result"
    }
   ],
   "source": [
    "classifier.train(input_fn=lambda: input_fn(train,train_y,training=True),steps=5000)"
   ]
  },
  {
   "cell_type": "code",
   "execution_count": 16,
   "metadata": {},
   "outputs": [
    {
     "name": "stdout",
     "output_type": "stream",
     "text": [
      "INFO:tensorflow:Calling model_fn.\n",
      "INFO:tensorflow:Done calling model_fn.\n",
      "INFO:tensorflow:Starting evaluation at 2021-04-06T17:45:40Z\n",
      "INFO:tensorflow:Graph was finalized.\n",
      "INFO:tensorflow:Restoring parameters from C:\\Users\\ANKURS~1\\AppData\\Local\\Temp\\tmpgs37x8if\\model.ckpt-5000\n",
      "INFO:tensorflow:Running local_init_op.\n",
      "INFO:tensorflow:Done running local_init_op.\n",
      "INFO:tensorflow:Inference Time : 1.21388s\n",
      "INFO:tensorflow:Finished evaluation at 2021-04-06-17:45:41\n",
      "INFO:tensorflow:Saving dict for global step 5000: accuracy = 0.8333333, average_loss = 0.6175067, global_step = 5000, loss = 0.6175067\n",
      "INFO:tensorflow:Saving 'checkpoint_path' summary for global step 5000: C:\\Users\\ANKURS~1\\AppData\\Local\\Temp\\tmpgs37x8if\\model.ckpt-5000\n",
      "{'accuracy': 0.8333333, 'average_loss': 0.6175067, 'loss': 0.6175067, 'global_step': 5000}\n"
     ]
    }
   ],
   "source": [
    "eval_result=classifier.evaluate(input_fn=lambda: input_fn(test,test_y,training=False))\n",
    "print(eval_result)"
   ]
  },
  {
   "cell_type": "code",
   "execution_count": 17,
   "metadata": {},
   "outputs": [],
   "source": [
    "def input_fn(features,batch_size=256):\n",
    "    return tf.data.Dataset.from_tensor_slices(dict(features)).batch(batch_size)"
   ]
  },
  {
   "cell_type": "code",
   "execution_count": 18,
   "metadata": {},
   "outputs": [
    {
     "name": "stdout",
     "output_type": "stream",
     "text": [
      "Please type numeric values as prompted\n",
      "SepalLength:2.4\n",
      "SepalWidth:2.6\n",
      "PetalLength:4.5\n",
      "PetalWidth:5.6\n",
      "INFO:tensorflow:Calling model_fn.\n",
      "INFO:tensorflow:Done calling model_fn.\n",
      "INFO:tensorflow:Graph was finalized.\n",
      "INFO:tensorflow:Restoring parameters from C:\\Users\\ANKURS~1\\AppData\\Local\\Temp\\tmpgs37x8if\\model.ckpt-5000\n",
      "INFO:tensorflow:Running local_init_op.\n",
      "INFO:tensorflow:Done running local_init_op.\n",
      "Prediction is \"Setosa\" (41.2%)\n"
     ]
    }
   ],
   "source": [
    "features = ['SepalLength', 'SepalWidth', 'PetalLength', 'PetalWidth']\n",
    "predict = {}\n",
    "\n",
    "print(\"Please type numeric values as prompted\")\n",
    "for feature in features:\n",
    "    valid=True\n",
    "    while valid:\n",
    "        val=input(feature+\":\")\n",
    "        if not val.isdigit():valid=False\n",
    "    predict[feature]=[float(val)]\n",
    "    \n",
    "predictions=classifier.predict(input_fn=lambda:input_fn(predict))\n",
    "for pred_dict in predictions:\n",
    "    class_id=pred_dict['class_ids'][0]\n",
    "    probability=pred_dict['probabilities'][class_id]\n",
    "    print('Prediction is \"{}\" ({:.1f}%)'.format(species[class_id], 100 * probability))"
   ]
  },
  {
   "cell_type": "code",
   "execution_count": 46,
   "metadata": {},
   "outputs": [],
   "source": [
    "predict_x = {\n",
    "    'SepalLength': [5.1, 5.9, 6.9],\n",
    "    'SepalWidth': [3.3, 3.0, 3.1],\n",
    "    'PetalLength': [1.7, 4.2, 5.4],\n",
    "    'PetalWidth': [0.5, 1.5, 2.1],\n",
    "}"
   ]
  },
  {
   "cell_type": "code",
   "execution_count": 47,
   "metadata": {},
   "outputs": [],
   "source": [
    "predictions_x=classifier.predict(input_fn=lambda:input_fn(predict_x))"
   ]
  },
  {
   "cell_type": "code",
   "execution_count": 48,
   "metadata": {},
   "outputs": [
    {
     "name": "stdout",
     "output_type": "stream",
     "text": [
      "INFO:tensorflow:Calling model_fn.\n",
      "INFO:tensorflow:Done calling model_fn.\n",
      "INFO:tensorflow:Graph was finalized.\n",
      "INFO:tensorflow:Restoring parameters from C:\\Users\\ANKURS~1\\AppData\\Local\\Temp\\tmpgs37x8if\\model.ckpt-5000\n",
      "INFO:tensorflow:Running local_init_op.\n",
      "INFO:tensorflow:Done running local_init_op.\n",
      "Prediction is \"Setosa\" (74.9%)\n",
      "Actual Setosa\n",
      "Prediction is \"Virginica\" (41.7%)\n",
      "Actual Versicolor\n",
      "Prediction is \"Virginica\" (48.5%)\n",
      "Actual Virginica\n"
     ]
    }
   ],
   "source": [
    "expected = ['Setosa', 'Versicolor', 'Virginica']\n",
    "i=0\n",
    "for pred_dict in predictions_x:\n",
    "    class_id=pred_dict['class_ids'][0]\n",
    "    probability=pred_dict['probabilities'][class_id]\n",
    "    print('Prediction is \"{}\" ({:.1f}%)'.format(species[class_id], 100 * probability))\n",
    "    print('Actual',expected[i])\n",
    "    i+=1"
   ]
  },
  {
   "cell_type": "markdown",
   "metadata": {},
   "source": [
    "## Hidden Markov models"
   ]
  },
  {
   "cell_type": "code",
   "execution_count": 22,
   "metadata": {},
   "outputs": [],
   "source": [
    "import tensorflow_probability as tfp"
   ]
  },
  {
   "cell_type": "code",
   "execution_count": 23,
   "metadata": {},
   "outputs": [],
   "source": [
    "tfd=tfp.distributions\n",
    "initial_distribution=tfd.Categorical(probs=[0.2,0.8])\n",
    "transition_distribution=tfd.Categorical(probs=[[0.5,0.5],[0.2,0.8]])\n",
    "observation_distribution=tfd.Normal(loc=[0.,15.],scale=[5.,10.])"
   ]
  },
  {
   "cell_type": "code",
   "execution_count": 24,
   "metadata": {},
   "outputs": [],
   "source": [
    "model=tfd.HiddenMarkovModel(initial_distribution=initial_distribution,transition_distribution=transition_distribution,\n",
    "                           observation_distribution=observation_distribution,num_steps=7)"
   ]
  },
  {
   "cell_type": "code",
   "execution_count": 25,
   "metadata": {},
   "outputs": [
    {
     "name": "stdout",
     "output_type": "stream",
     "text": [
      "[12.       11.1      10.83     10.748999 10.724699 10.71741  10.715222]\n"
     ]
    }
   ],
   "source": [
    "mean=model.mean()\n",
    "with tf.compat.v1.Session() as sess:\n",
    "    print(mean.numpy())"
   ]
  },
  {
   "cell_type": "markdown",
   "metadata": {},
   "source": [
    "## Neural networks"
   ]
  },
  {
   "cell_type": "code",
   "execution_count": 26,
   "metadata": {},
   "outputs": [],
   "source": [
    "from tensorflow import keras"
   ]
  },
  {
   "cell_type": "code",
   "execution_count": 27,
   "metadata": {},
   "outputs": [],
   "source": [
    "fashion_mnist=keras.datasets.fashion_mnist\n",
    "(train_images,train_labels),(test_images,test_labels)=fashion_mnist.load_data()"
   ]
  },
  {
   "cell_type": "code",
   "execution_count": 28,
   "metadata": {},
   "outputs": [
    {
     "data": {
      "text/plain": [
       "(60000, 28, 28)"
      ]
     },
     "execution_count": 28,
     "metadata": {},
     "output_type": "execute_result"
    }
   ],
   "source": [
    "train_images.shape"
   ]
  },
  {
   "cell_type": "code",
   "execution_count": 29,
   "metadata": {},
   "outputs": [],
   "source": [
    "class_names = ['T-shirt/top', 'Trouser', 'Pullover', 'Dress', 'Coat',\n",
    "               'Sandal', 'Shirt', 'Sneaker', 'Bag', 'Ankle boot']"
   ]
  },
  {
   "cell_type": "code",
   "execution_count": 30,
   "metadata": {},
   "outputs": [
    {
     "data": {
      "image/png": "[encoded data removed]",
      "text/plain": [
       "<Figure size 432x288 with 2 Axes>"
      ]
     },
     "metadata": {
      "needs_background": "light"
     },
     "output_type": "display_data"
    }
   ],
   "source": [
    "plt.figure()\n",
    "plt.imshow(train_images[1])\n",
    "plt.colorbar()\n",
    "plt.show()"
   ]
  },
  {
   "cell_type": "code",
   "execution_count": 31,
   "metadata": {},
   "outputs": [],
   "source": [
    "train_images=train_images/255.0\n",
    "test_images=test_images/255.0"
   ]
  },
  {
   "cell_type": "code",
   "execution_count": 32,
   "metadata": {},
   "outputs": [],
   "source": [
    "model=keras.Sequential([\n",
    "    keras.layers.Flatten(input_shape=(28,28)),\n",
    "    keras.layers.Dense(128,activation='relu'),\n",
    "    keras.layers.Dense(10,activation='softmax')\n",
    "])"
   ]
  },
  {
   "cell_type": "code",
   "execution_count": 33,
   "metadata": {},
   "outputs": [],
   "source": [
    "model.compile(optimizer='adam',loss='sparse_categorical_crossentropy',metrics=['accuracy'])"
   ]
  },
  {
   "cell_type": "code",
   "execution_count": 34,
   "metadata": {},
   "outputs": [
    {
     "name": "stdout",
     "output_type": "stream",
     "text": [
      "Epoch 1/10\n",
      "1500/1500 [==============================] - 12s 7ms/step - loss: 0.6591 - accuracy: 0.7707 - val_loss: 0.4160 - val_accuracy: 0.8534\n",
      "Epoch 2/10\n",
      "1500/1500 [==============================] - 7s 5ms/step - loss: 0.3946 - accuracy: 0.8582 - val_loss: 0.3663 - val_accuracy: 0.8701\n",
      "Epoch 3/10\n",
      "1500/1500 [==============================] - 7s 5ms/step - loss: 0.3530 - accuracy: 0.8729 - val_loss: 0.3708 - val_accuracy: 0.8704\n",
      "Epoch 4/10\n",
      "1500/1500 [==============================] - 6s 4ms/step - loss: 0.3186 - accuracy: 0.8832 - val_loss: 0.3371 - val_accuracy: 0.8789\n",
      "Epoch 5/10\n",
      "1500/1500 [==============================] - 6s 4ms/step - loss: 0.2948 - accuracy: 0.8924 - val_loss: 0.3333 - val_accuracy: 0.8816\n",
      "Epoch 6/10\n",
      "1500/1500 [==============================] - 7s 5ms/step - loss: 0.2849 - accuracy: 0.8942 - val_loss: 0.3421 - val_accuracy: 0.8743\n",
      "Epoch 7/10\n",
      "1500/1500 [==============================] - 8s 5ms/step - loss: 0.2784 - accuracy: 0.8961 - val_loss: 0.3272 - val_accuracy: 0.8824\n",
      "Epoch 8/10\n",
      "1500/1500 [==============================] - 5s 4ms/step - loss: 0.2591 - accuracy: 0.9046 - val_loss: 0.3250 - val_accuracy: 0.8817\n",
      "Epoch 9/10\n",
      "1500/1500 [==============================] - 5s 4ms/step - loss: 0.2487 - accuracy: 0.9076 - val_loss: 0.3436 - val_accuracy: 0.8751\n",
      "Epoch 10/10\n",
      "1500/1500 [==============================] - 6s 4ms/step - loss: 0.2402 - accuracy: 0.9110 - val_loss: 0.3325 - val_accuracy: 0.8798\n"
     ]
    },
    {
     "data": {
      "text/plain": [
       "<tensorflow.python.keras.callbacks.History at 0x239c8a643d0>"
      ]
     },
     "execution_count": 34,
     "metadata": {},
     "output_type": "execute_result"
    }
   ],
   "source": [
    "model.fit(train_images,train_labels,epochs=10,validation_split=0.2)"
   ]
  },
  {
   "cell_type": "code",
   "execution_count": 35,
   "metadata": {},
   "outputs": [
    {
     "name": "stdout",
     "output_type": "stream",
     "text": [
      "313/313 [==============================] - 1s 2ms/step - loss: 0.3596 - accuracy: 0.8735\n"
     ]
    },
    {
     "data": {
      "text/plain": [
       "[0.359631210565567, 0.8734999895095825]"
      ]
     },
     "execution_count": 35,
     "metadata": {},
     "output_type": "execute_result"
    }
   ],
   "source": [
    "model.evaluate(test_images,test_labels,verbose=1)"
   ]
  },
  {
   "cell_type": "code",
   "execution_count": 36,
   "metadata": {},
   "outputs": [],
   "source": [
    "predictions=model.predict(test_images)"
   ]
  },
  {
   "cell_type": "code",
   "execution_count": 37,
   "metadata": {},
   "outputs": [
    {
     "name": "stdout",
     "output_type": "stream",
     "text": [
      "Pullover\n"
     ]
    },
    {
     "data": {
      "image/png": "[encoded data removed]",
      "text/plain": [
       "<Figure size 432x288 with 2 Axes>"
      ]
     },
     "metadata": {
      "needs_background": "light"
     },
     "output_type": "display_data"
    }
   ],
   "source": [
    "print(class_names[np.argmax(predictions[1])])\n",
    "plt.figure()\n",
    "plt.imshow(test_images[1])\n",
    "plt.colorbar()\n",
    "plt.show()"
   ]
  },
  {
   "cell_type": "code",
   "execution_count": 38,
   "metadata": {},
   "outputs": [],
   "source": [
    "def predict(model,image,label):\n",
    "    prediction=model.predict(np.array([image]))\n",
    "    print(\"Expected outcome: \",class_names[label])\n",
    "    plt.figure()\n",
    "    plt.imshow(image)\n",
    "    plt.colorbar()\n",
    "    plt.show()\n",
    "    print(\"Actual outcome from model: \",class_names[np.argmax(prediction)])\n",
    "\n",
    "def get_number():\n",
    "    while True:\n",
    "        n=int(input(\"Enter a number: \"))\n",
    "        if n==-1: return\n",
    "        predict(model,test_images[n],test_labels[n])"
   ]
  },
  {
   "cell_type": "code",
   "execution_count": 49,
   "metadata": {},
   "outputs": [
    {
     "name": "stdout",
     "output_type": "stream",
     "text": [
      "Enter a number: 789\n",
      "Expected outcome:  Sneaker\n"
     ]
    },
    {
     "data": {
      "image/png": "[encoded data removed]",
      "text/plain": [
       "<Figure size 432x288 with 2 Axes>"
      ]
     },
     "metadata": {
      "needs_background": "light"
     },
     "output_type": "display_data"
    },
    {
     "name": "stdout",
     "output_type": "stream",
     "text": [
      "Actual outcome from model:  Sneaker\n",
      "Enter a number: 986\n",
      "Expected outcome:  Pullover\n"
     ]
    },
    {
     "data": {
      "image/png": "[encoded data removed]",
      "text/plain": [
       "<Figure size 432x288 with 2 Axes>"
      ]
     },
     "metadata": {
      "needs_background": "light"
     },
     "output_type": "display_data"
    },
    {
     "name": "stdout",
     "output_type": "stream",
     "text": [
      "Actual outcome from model:  Pullover\n",
      "Enter a number: 267\n",
      "Expected outcome:  Bag\n"
     ]
    },
    {
     "data": {
      "image/png": "[encoded data removed]",
      "text/plain": [
       "<Figure size 432x288 with 2 Axes>"
      ]
     },
     "metadata": {
      "needs_background": "light"
     },
     "output_type": "display_data"
    },
    {
     "name": "stdout",
     "output_type": "stream",
     "text": [
      "Actual outcome from model:  Bag\n",
      "Enter a number: 100\n",
      "Expected outcome:  Dress\n"
     ]
    },
    {
     "data": {
      "image/png": "[encoded data removed]",
      "text/plain": [
       "<Figure size 432x288 with 2 Axes>"
      ]
     },
     "metadata": {
      "needs_background": "light"
     },
     "output_type": "display_data"
    },
    {
     "name": "stdout",
     "output_type": "stream",
     "text": [
      "Actual outcome from model:  Dress\n",
      "Enter a number: -1\n"
     ]
    }
   ],
   "source": [
    "get_number()"
   ]
  },
  {
   "cell_type": "code",
   "execution_count": null,
   "metadata": {},
   "outputs": [],
   "source": []
  },
  {
   "cell_type": "code",
   "execution_count": null,
   "metadata": {},
   "outputs": [],
   "source": []
  }
 ],
 "metadata": {
  "kernelspec": {
   "display_name": "Python 3",
   "language": "python",
   "name": "python3"
  },
  "language_info": {
   "codemirror_mode": {
    "name": "ipython",
    "version": 3
   },
   "file_extension": ".py",
   "mimetype": "text/x-python",
   "name": "python",
   "nbconvert_exporter": "python",
   "pygments_lexer": "ipython3",
   "version": "3.8.3"
  }
 },
 "nbformat": 4,
 "nbformat_minor": 4
}
